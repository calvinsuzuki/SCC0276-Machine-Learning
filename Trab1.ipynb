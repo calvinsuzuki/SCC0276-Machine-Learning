{
 "cells": [
  {
   "cell_type": "code",
   "execution_count": 42,
   "id": "9bbd3b4c",
   "metadata": {},
   "outputs": [],
   "source": [
    "from glob import glob\n",
    "import mne\n",
    "import numpy as np\n",
    "import pandas as pd\n",
    "from mne.viz import plot_alignment, set_3d_view\n"
   ]
  },
  {
   "cell_type": "markdown",
   "id": "5bfa7f2e",
   "metadata": {},
   "source": [
    "## Reading edf files"
   ]
  },
  {
   "cell_type": "code",
   "execution_count": 21,
   "id": "ed456a0f",
   "metadata": {},
   "outputs": [
    {
     "name": "stdout",
     "output_type": "stream",
     "text": [
      "4\n",
      "2\n"
     ]
    }
   ],
   "source": [
    "all_file_path = glob('data/*.edf')\n",
    "file_paths = glob('data/seizures/*.seizures')\n",
    "print(len(all_file_path))\n",
    "print(len(file_paths))"
   ]
  },
  {
   "cell_type": "code",
   "execution_count": 54,
   "id": "658df51f",
   "metadata": {},
   "outputs": [
    {
     "name": "stdout",
     "output_type": "stream",
     "text": [
      "Extracting EDF parameters from /home/guisoares/soares_repo/SCC0276-Machine-Learning/data/chb01_03.edf...\n",
      "EDF file detected\n",
      "Setting channel info structure...\n",
      "Creating raw.info structure...\n",
      "['eeg', 'eeg', 'eeg', 'eeg', 'eeg', 'eeg', 'eeg', 'eeg', 'eeg', 'eeg', 'eeg', 'eeg', 'eeg', 'eeg', 'eeg', 'eeg', 'eeg', 'eeg', 'eeg', 'eeg', 'eeg', 'eeg', 'eeg']\n",
      "<Info | 7 non-empty values\n",
      " bads: []\n",
      " ch_names: FP1-F7, F7-T7, T7-P7, P7-O1, FP1-F3, F3-C3, C3-P3, P3-O1, ...\n",
      " chs: 23 EEG\n",
      " custom_ref_applied: False\n",
      " highpass: 0.0 Hz\n",
      " lowpass: 128.0 Hz\n",
      " meas_date: 2076-11-06 13:43:04 UTC\n",
      " nchan: 23\n",
      " projs: []\n",
      " sfreq: 256.0 Hz\n",
      ">\n",
      "['FP1-F7', 'F7-T7', 'T7-P7', 'P7-O1', 'FP1-F3', 'F3-C3', 'C3-P3', 'P3-O1', 'FP2-F4', 'F4-C4', 'C4-P4', 'P4-O2', 'FP2-F8', 'F8-T8', 'T8-P8-0', 'P8-O2', 'FZ-CZ', 'CZ-PZ', 'P7-T7', 'T7-FT9', 'FT9-FT10', 'FT10-T8', 'T8-P8-1']\n"
     ]
    },
    {
     "name": "stderr",
     "output_type": "stream",
     "text": [
      "/tmp/ipykernel_26167/2924192598.py:1: RuntimeWarning: Channel names are not unique, found duplicates for: {'T8-P8'}. Applying running numbers for duplicates.\n",
      "  raw = mne.io.read_raw_edf(all_file_path[0])\n"
     ]
    },
    {
     "name": "stdout",
     "output_type": "stream",
     "text": [
      "(23, 921600)\n"
     ]
    }
   ],
   "source": [
    "raw = mne.io.read_raw_edf(all_file_path[0])\n",
    "print(raw.get_channel_types())\n",
    "print(raw.info)\n",
    "print(raw.ch_names)\n",
    "print(raw.get_data().shape)"
   ]
  },
  {
   "cell_type": "code",
   "execution_count": 48,
   "id": "8cee985b",
   "metadata": {},
   "outputs": [],
   "source": [
    "def read_data_edf(file_path):\n",
    "    data = mne.io.read_raw_edf(file_path, preload=True)\n",
    "    data.set_eeg_reference()\n",
    "    data.filter(l_freq=0.5, h_freq=45)\n",
    "    epochs=mne.make_fixed_length_epochs(data, duration=10, overlap=1)\n",
    "    array=epochs.get_data()\n",
    "    return array\n",
    "\n",
    "# def read_data_seizures(file_path):\n",
    "#     ref_file = open(file_path, 'r')\n",
    "#     array=epochs.get_data()\n",
    "#     return array"
   ]
  },
  {
   "cell_type": "code",
   "execution_count": 8,
   "id": "21e717ae",
   "metadata": {
    "scrolled": true
   },
   "outputs": [],
   "source": [
    "%%capture\n",
    "data_epochs = [read_data_edf(i) for i in all_file_path]\n"
   ]
  },
  {
   "cell_type": "code",
   "execution_count": 17,
   "id": "5d11b6dc",
   "metadata": {},
   "outputs": [
    {
     "data": {
      "text/plain": [
       "(4, 399, 23, 2560)"
      ]
     },
     "execution_count": 17,
     "metadata": {},
     "output_type": "execute_result"
    }
   ],
   "source": [
    "data_epochs = np.array(data_epochs)\n",
    "data_epochs.shape"
   ]
  },
  {
   "cell_type": "code",
   "execution_count": null,
   "id": "7fa67ba0",
   "metadata": {},
   "outputs": [],
   "source": [
    "# merge the files on one array \n",
    "# shape: (N_files, 399 epochs, 23 channels, 2560 values) ->  (N_files*399 epochs, 23 channels, 2560 values)\n",
    "data_array = np.vstack(data_epochs)\n",
    "data_array.shape"
   ]
  },
  {
   "cell_type": "markdown",
   "id": "1728472b",
   "metadata": {},
   "source": [
    "## Extract features"
   ]
  },
  {
   "cell_type": "code",
   "execution_count": 51,
   "id": "680dcfed",
   "metadata": {},
   "outputs": [],
   "source": [
    "########! Features extraction !#####\n",
    "from scipy import stats\n",
    "def mean(x):\n",
    "    return np.mean(x, axis=-1)\n",
    "def std(x):\n",
    "    return np.std(x, axis=-1)\n",
    "def ptp(x):\n",
    "    return np.ptp(x, axis=-1)\n",
    "def var(x):\n",
    "    return np.var(x, axis=-1)\n",
    "def minim(x):\n",
    "    return np.min(x, axis=-1)\n",
    "def maxim(x):\n",
    "    return np.max(x, axis=-1)\n",
    "\n",
    "def argminim(x):\n",
    "    return np.argmin(x, axis=-1)\n",
    "\n",
    "def argmaxim(x):\n",
    "    return np.argmax(x, axis=-1)\n",
    "\n",
    "def rms(x):\n",
    "    return np.sqrt(np.mean(x**2, axis=-1))\n",
    "\n",
    "def abs_diff_signal(x):\n",
    "    return np.sum(np.abs(np.diff(x, axis=-1)), axis=-1)\n",
    "\n",
    "def skewness(x):\n",
    "    return stats.skew(x, axis=-1)\n",
    "\n",
    "def kurtosis(x):\n",
    "    return stats.kurtosis(x, axis=-1)\n",
    "\n",
    "def concatenate_features(x):\n",
    "    return np.concatenate((mean(x), std(x), ptp(x), var(x), minim(x), maxim(x), argmaxim(x), \n",
    "                           argminim(x), rms(x), abs_diff_signal(x), skewness(x), kurtosis(x)), axis=-1)"
   ]
  },
  {
   "cell_type": "code",
   "execution_count": 52,
   "id": "ec1b6fe0",
   "metadata": {},
   "outputs": [
    {
     "data": {
      "text/plain": [
       "(1596, 276)"
      ]
     },
     "execution_count": 52,
     "metadata": {},
     "output_type": "execute_result"
    }
   ],
   "source": [
    "features = []\n",
    "for d in data_array:\n",
    "    features.append(concatenate_features(d))\n",
    "    \n",
    "features_array = np.array(features)\n",
    "features_array.shape"
   ]
  },
  {
   "cell_type": "markdown",
   "id": "c5c4e69b",
   "metadata": {},
   "source": [
    "## Visualize features per channel and per epoch"
   ]
  },
  {
   "cell_type": "code",
   "execution_count": 63,
   "id": "101d800c",
   "metadata": {},
   "outputs": [
    {
     "name": "stdout",
     "output_type": "stream",
     "text": [
      "Info for channel 23: \n"
     ]
    },
    {
     "data": {
      "text/plain": [
       "(1596, 12)"
      ]
     },
     "execution_count": 63,
     "metadata": {},
     "output_type": "execute_result"
    }
   ],
   "source": [
    "# get features of specific channel\n",
    "def features_by_channel(features_array):\n",
    "    features_channel = []\n",
    "    MAX_CHANNELS = 23\n",
    "    for i in range(MAX_CHANNELS):\n",
    "        array = features_array[:, i*12:(i+1)*12];\n",
    "        features_channel.append(pd.DataFrame(array, columns=['Mean', 'Std', 'Ptp', 'Var', 'Minimo', 'Maxim', 'Arg Max', 'Arg Min', 'RMS', 'ABS DIFF', 'skewness', 'kurtosis']))\n",
    "    return features_channel\n",
    "\n",
    "features_channel = features_by_channel(features_array)\n",
    "print('Info for channel 23: ')\n",
    "\n",
    "# Shape of features_channel=(23, 1596, 12)\n",
    "features_channel[22].shape"
   ]
  },
  {
   "cell_type": "markdown",
   "id": "17252935",
   "metadata": {},
   "source": [
    "## Labelling"
   ]
  },
  {
   "cell_type": "code",
   "execution_count": null,
   "id": "a014a9ae",
   "metadata": {},
   "outputs": [],
   "source": []
  }
 ],
 "metadata": {
  "interpreter": {
   "hash": "fd156d1bfb48eb4ee1a6eb8f39a444f48635a09375c4c26039d85d949812f675"
  },
  "kernelspec": {
   "display_name": "Python 3.8.10 ('full')",
   "language": "python",
   "name": "python3"
  },
  "language_info": {
   "codemirror_mode": {
    "name": "ipython",
    "version": 3
   },
   "file_extension": ".py",
   "mimetype": "text/x-python",
   "name": "python",
   "nbconvert_exporter": "python",
   "pygments_lexer": "ipython3",
   "version": "3.8.10"
  }
 },
 "nbformat": 4,
 "nbformat_minor": 5
}
