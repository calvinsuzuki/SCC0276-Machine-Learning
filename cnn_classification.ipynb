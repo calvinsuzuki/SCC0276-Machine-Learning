{
 "cells": [
  {
   "cell_type": "code",
   "execution_count": 1,
   "metadata": {},
   "outputs": [
    {
     "name": "stderr",
     "output_type": "stream",
     "text": [
      "2022-07-05 22:01:19.043342: W tensorflow/stream_executor/platform/default/dso_loader.cc:64] Could not load dynamic library 'libcudart.so.11.0'; dlerror: libcudart.so.11.0: cannot open shared object file: No such file or directory; LD_LIBRARY_PATH: /home/guisoares/catkin_ws/devel/lib:/opt/ros/noetic/lib:/usr/lib/x86_64-linux-gnu/:/home/guisoares/catkin_ws/install/lib/mavlink_sitl_gazebo/plugins\n",
      "2022-07-05 22:01:19.043405: I tensorflow/stream_executor/cuda/cudart_stub.cc:29] Ignore above cudart dlerror if you do not have a GPU set up on your machine.\n"
     ]
    }
   ],
   "source": [
    "import numpy as np\n",
    "from sklearn.model_selection import train_test_split\n",
    "import tensorflow as tf\n",
    "import keras\n",
    "from keras.models import Sequential\n",
    "from keras.layers import Dense,Conv1D,Conv2D,MaxPooling2D,Flatten,AveragePooling2D,Input,BatchNormalization,AveragePooling1D\n",
    "from keras.optimizers import RMSprop"
   ]
  },
  {
   "cell_type": "code",
   "execution_count": 2,
   "metadata": {},
   "outputs": [
    {
     "name": "stderr",
     "output_type": "stream",
     "text": [
      "2022-07-05 22:01:24.287752: W tensorflow/stream_executor/platform/default/dso_loader.cc:64] Could not load dynamic library 'libcuda.so.1'; dlerror: libcuda.so.1: cannot open shared object file: No such file or directory; LD_LIBRARY_PATH: /home/guisoares/catkin_ws/devel/lib:/opt/ros/noetic/lib:/usr/lib/x86_64-linux-gnu/:/home/guisoares/catkin_ws/install/lib/mavlink_sitl_gazebo/plugins\n",
      "2022-07-05 22:01:24.287799: W tensorflow/stream_executor/cuda/cuda_driver.cc:269] failed call to cuInit: UNKNOWN ERROR (303)\n",
      "2022-07-05 22:01:24.287828: I tensorflow/stream_executor/cuda/cuda_diagnostics.cc:156] kernel driver does not appear to be running on this host (guisoares-Aspire-A315-53): /proc/driver/nvidia/version does not exist\n",
      "2022-07-05 22:01:24.288152: I tensorflow/core/platform/cpu_feature_guard.cc:193] This TensorFlow binary is optimized with oneAPI Deep Neural Network Library (oneDNN) to use the following CPU instructions in performance-critical operations:  AVX2 FMA\n",
      "To enable them in other operations, rebuild TensorFlow with the appropriate compiler flags.\n"
     ]
    }
   ],
   "source": [
    "# Model creation\n",
    "model = Sequential()\n",
    "# model.add(Input(shape=(23,25600,1)))\n",
    "\n",
    "model.add(Conv1D(4, 5, activation='relu', input_shape=(25600, 23), name='conv1'))\n",
    "model.add(BatchNormalization(name='batch1'))\n",
    "model.add(AveragePooling1D(pool_size=2, strides=2, name='pool1'))\n",
    "# output ~(12800,4)\n",
    "\n",
    "model.add(Conv1D(4, 6, activation='relu', name='conv2'))\n",
    "model.add(BatchNormalization(name='batch2'))\n",
    "model.add(AveragePooling1D(pool_size=4, strides=1,name='pool2'))\n",
    "# output ~(12800,4)\n",
    "\n",
    "model.add(Conv1D(10, 4, activation='relu', name='conv3'))\n",
    "model.add(BatchNormalization(name='batch3'))\n",
    "model.add(AveragePooling1D(pool_size=2, strides=2, name='pool3'))\n",
    "# output ~(6400,4)\n",
    "\n",
    "model.add(Conv1D(10, 4, activation='relu', name='conv4'))\n",
    "model.add(BatchNormalization(name='batch4'))\n",
    "model.add(AveragePooling1D(pool_size=2, strides=4, name='pool4'))\n",
    "# output ~(1200,4)\n",
    "\n",
    "model.add(Conv1D(15, 2, activation='relu', name='conv5'))\n",
    "model.add(BatchNormalization(name='batch5'))\n",
    "model.add(AveragePooling1D(pool_size=2, strides=4, name='pool5'))\n",
    "\n",
    "model.add(Flatten())\n",
    "model.add(Dense(50, activation='relu'))\n",
    "model.add(Dense(10, activation='relu'))\n",
    "model.add(Dense(1, activation='sigmoid'))"
   ]
  },
  {
   "cell_type": "code",
   "execution_count": 3,
   "metadata": {},
   "outputs": [
    {
     "name": "stdout",
     "output_type": "stream",
     "text": [
      "Model: \"sequential\"\n",
      "_________________________________________________________________\n",
      " Layer (type)                Output Shape              Param #   \n",
      "=================================================================\n",
      " conv1 (Conv1D)              (None, 25596, 4)          464       \n",
      "                                                                 \n",
      " batch1 (BatchNormalization)  (None, 25596, 4)         16        \n",
      "                                                                 \n",
      " pool1 (AveragePooling1D)    (None, 12798, 4)          0         \n",
      "                                                                 \n",
      " conv2 (Conv1D)              (None, 12793, 4)          100       \n",
      "                                                                 \n",
      " batch2 (BatchNormalization)  (None, 12793, 4)         16        \n",
      "                                                                 \n",
      " pool2 (AveragePooling1D)    (None, 12790, 4)          0         \n",
      "                                                                 \n",
      " conv3 (Conv1D)              (None, 12787, 10)         170       \n",
      "                                                                 \n",
      " batch3 (BatchNormalization)  (None, 12787, 10)        40        \n",
      "                                                                 \n",
      " pool3 (AveragePooling1D)    (None, 6393, 10)          0         \n",
      "                                                                 \n",
      " conv4 (Conv1D)              (None, 6390, 10)          410       \n",
      "                                                                 \n",
      " batch4 (BatchNormalization)  (None, 6390, 10)         40        \n",
      "                                                                 \n",
      " pool4 (AveragePooling1D)    (None, 1598, 10)          0         \n",
      "                                                                 \n",
      " conv5 (Conv1D)              (None, 1597, 15)          315       \n",
      "                                                                 \n",
      " batch5 (BatchNormalization)  (None, 1597, 15)         60        \n",
      "                                                                 \n",
      " pool5 (AveragePooling1D)    (None, 399, 15)           0         \n",
      "                                                                 \n",
      " flatten (Flatten)           (None, 5985)              0         \n",
      "                                                                 \n",
      " dense (Dense)               (None, 50)                299300    \n",
      "                                                                 \n",
      " dense_1 (Dense)             (None, 10)                510       \n",
      "                                                                 \n",
      " dense_2 (Dense)             (None, 1)                 11        \n",
      "                                                                 \n",
      "=================================================================\n",
      "Total params: 301,452\n",
      "Trainable params: 301,366\n",
      "Non-trainable params: 86\n",
      "_________________________________________________________________\n"
     ]
    }
   ],
   "source": [
    "model.summary()"
   ]
  },
  {
   "cell_type": "code",
   "execution_count": 4,
   "metadata": {},
   "outputs": [],
   "source": [
    "\n",
    "import keras.backend as K\n",
    "def compute_binary_specificity(y_pred, y_true):\n",
    "    \"\"\"Compute the confusion matrix for a set of predictions.\n",
    "\n",
    "    Parameters\n",
    "    ----------\n",
    "    y_pred   : predicted values for a batch if samples (must be binary: 0 or 1)\n",
    "    y_true   : correct values for the set of samples used (must be binary: 0 or 1)\n",
    "\n",
    "    Returns\n",
    "    -------\n",
    "    out : the specificity\n",
    "    \"\"\"\n",
    "\n",
    "    # check_binary(K.eval(y_true))    # must check that input values are 0 or 1\n",
    "    # check_binary(K.eval(y_pred))    # \n",
    "\n",
    "    TN = np.logical_and(K.eval(y_true) == 0, K.eval(y_pred) == 0)\n",
    "    FP = np.logical_and(K.eval(y_true) == 0, K.eval(y_pred) == 1)\n",
    "\n",
    "    # as Keras Tensors\n",
    "    TN = K.sum(K.variable(TN))\n",
    "    FP = K.sum(K.variable(FP))\n",
    "\n",
    "    specificity = TN / (TN + FP + K.epsilon())\n",
    "    return specificity\n",
    "\n",
    "def specificity_loss_wrapper():\n",
    "    \"\"\"A wrapper to create and return a function which computes the specificity loss, as (1 - specificity)\n",
    "\n",
    "    \"\"\"\n",
    "    # Define the function for your loss\n",
    "    def specificity_loss(y_true, y_pred):\n",
    "        return 1.0 - compute_binary_specificity(y_true, y_pred)\n",
    "\n",
    "    return specificity_loss    # we return this function object"
   ]
  },
  {
   "cell_type": "code",
   "execution_count": 5,
   "metadata": {},
   "outputs": [],
   "source": [
    "opt = keras.optimizers.RMSprop(learning_rate=0.00001)\n",
    "# Create the loss function object using the wrapper function above\n",
    "# spec_loss = specificity_loss_wrapper()\n",
    "model.compile(loss=tf.keras.losses.BinaryCrossentropy(), optimizer=opt, metrics=['accuracy', tf.keras.metrics.SensitivityAtSpecificity(0.5), keras.metrics.SpecificityAtSensitivity(0.5)])"
   ]
  },
  {
   "cell_type": "code",
   "execution_count": 6,
   "metadata": {},
   "outputs": [],
   "source": [
    "y = np.load('signals/chb01/labels.npy')\n",
    "x = np.load('signals/chb01/signals.npy') \n",
    "x = np.swapaxes(x, 1, 2) #swap axis: N,23,25600 -> N,25600, 23\n",
    "x_train, x_test, y_train, y_test = train_test_split(x,y, test_size=0.3, shuffle=True)"
   ]
  },
  {
   "cell_type": "code",
   "execution_count": 7,
   "metadata": {},
   "outputs": [
    {
     "data": {
      "text/plain": [
       "(303, 25600, 23)"
      ]
     },
     "execution_count": 7,
     "metadata": {},
     "output_type": "execute_result"
    }
   ],
   "source": [
    "x.shape"
   ]
  },
  {
   "cell_type": "code",
   "execution_count": 8,
   "metadata": {},
   "outputs": [
    {
     "name": "stdout",
     "output_type": "stream",
     "text": [
      "{0: 206, 1: 6}\n",
      "{0: 86, 1: 5}\n"
     ]
    }
   ],
   "source": [
    "unique, counts = np.unique(y_train, return_counts=True)\n",
    "print(dict(zip(unique, counts)))\n",
    "\n",
    "unique, counts = np.unique(y_test, return_counts=True)\n",
    "print(dict(zip(unique, counts)))"
   ]
  },
  {
   "cell_type": "code",
   "execution_count": 9,
   "metadata": {},
   "outputs": [],
   "source": [
    "callback = tf.keras.callbacks.EarlyStopping(monitor=\"accuracy\", min_delta=0.1, patience=1)"
   ]
  },
  {
   "cell_type": "code",
   "execution_count": 10,
   "metadata": {},
   "outputs": [
    {
     "name": "stdout",
     "output_type": "stream",
     "text": [
      "Epoch 1/10\n"
     ]
    },
    {
     "name": "stderr",
     "output_type": "stream",
     "text": [
      "/home/guisoares/.virtualenvs/full/lib/python3.8/site-packages/tensorflow/python/util/dispatch.py:1082: UserWarning: \"`binary_crossentropy` received `from_logits=True`, but the `output` argument was produced by a sigmoid or softmax activation and thus does not represent logits. Was this intended?\"\n",
      "  return dispatch_target(*args, **kwargs)\n"
     ]
    },
    {
     "name": "stdout",
     "output_type": "stream",
     "text": [
      "53/53 [==============================] - 15s 208ms/step - loss: 1.3019 - accuracy: 0.1698 - sensitivity_at_specificity: 0.5000 - specificity_at_sensitivity: 0.6602 - val_loss: 0.6101 - val_accuracy: 0.9451 - val_sensitivity_at_specificity: 0.0000e+00 - val_specificity_at_sensitivity: 0.0000e+00\n",
      "Epoch 2/10\n",
      "53/53 [==============================] - 8s 154ms/step - loss: 0.7467 - accuracy: 0.5708 - sensitivity_at_specificity: 1.0000 - specificity_at_sensitivity: 0.9563 - val_loss: 0.3155 - val_accuracy: 0.9451 - val_sensitivity_at_specificity: 0.0000e+00 - val_specificity_at_sensitivity: 0.0000e+00\n",
      "Epoch 3/10\n",
      "53/53 [==============================] - 8s 143ms/step - loss: 0.4738 - accuracy: 0.8160 - sensitivity_at_specificity: 1.0000 - specificity_at_sensitivity: 0.9951 - val_loss: 0.2190 - val_accuracy: 0.9451 - val_sensitivity_at_specificity: 0.0000e+00 - val_specificity_at_sensitivity: 0.0000e+00\n",
      "Epoch 4/10\n",
      "53/53 [==============================] - 8s 145ms/step - loss: 0.4303 - accuracy: 0.8255 - sensitivity_at_specificity: 0.8333 - specificity_at_sensitivity: 0.9854 - val_loss: 0.3017 - val_accuracy: 0.9451 - val_sensitivity_at_specificity: 0.0000e+00 - val_specificity_at_sensitivity: 0.0000e+00\n"
     ]
    },
    {
     "data": {
      "text/plain": [
       "<keras.callbacks.History at 0x7fdf945c9be0>"
      ]
     },
     "execution_count": 10,
     "metadata": {},
     "output_type": "execute_result"
    }
   ],
   "source": [
    "model.fit(x_train, y_train, batch_size=4, epochs=10, validation_data=(x_test,y_test), callbacks=[callback])"
   ]
  },
  {
   "cell_type": "code",
   "execution_count": 13,
   "metadata": {},
   "outputs": [
    {
     "name": "stdout",
     "output_type": "stream",
     "text": [
      "7/7 [==============================] - 3s 346ms/step\n",
      "{0: 212}\n",
      "{0: 206, 1: 6}\n"
     ]
    }
   ],
   "source": [
    "y_pred = model.predict(x_train[:])\n",
    "y_pred = np.where(y_pred < 0.5, 0, 1)\n",
    "unique, counts = np.unique(y_pred, return_counts=True)\n",
    "print(dict(zip(unique, counts)))\n",
    "\n",
    "unique, counts = np.unique(y_train, return_counts=True)\n",
    "print(dict(zip(unique, counts)))"
   ]
  },
  {
   "cell_type": "code",
   "execution_count": null,
   "metadata": {},
   "outputs": [],
   "source": []
  },
  {
   "cell_type": "code",
   "execution_count": null,
   "metadata": {},
   "outputs": [],
   "source": []
  }
 ],
 "metadata": {
  "kernelspec": {
   "display_name": "Python 3.8.10 ('full')",
   "language": "python",
   "name": "python3"
  },
  "language_info": {
   "codemirror_mode": {
    "name": "ipython",
    "version": 3
   },
   "file_extension": ".py",
   "mimetype": "text/x-python",
   "name": "python",
   "nbconvert_exporter": "python",
   "pygments_lexer": "ipython3",
   "version": "3.8.10"
  },
  "orig_nbformat": 4,
  "vscode": {
   "interpreter": {
    "hash": "fd156d1bfb48eb4ee1a6eb8f39a444f48635a09375c4c26039d85d949812f675"
   }
  }
 },
 "nbformat": 4,
 "nbformat_minor": 2
}
