{
 "cells": [
  {
   "cell_type": "code",
   "execution_count": 2,
   "metadata": {},
   "outputs": [
    {
     "name": "stderr",
     "output_type": "stream",
     "text": [
      "2022-07-05 00:59:01.699358: W tensorflow/stream_executor/platform/default/dso_loader.cc:64] Could not load dynamic library 'libcudart.so.11.0'; dlerror: libcudart.so.11.0: cannot open shared object file: No such file or directory; LD_LIBRARY_PATH: /home/guisoares/catkin_ws/devel/lib:/opt/ros/noetic/lib:/usr/lib/x86_64-linux-gnu/:/home/guisoares/catkin_ws/install/lib/mavlink_sitl_gazebo/plugins\n",
      "2022-07-05 00:59:01.699386: I tensorflow/stream_executor/cuda/cudart_stub.cc:29] Ignore above cudart dlerror if you do not have a GPU set up on your machine.\n"
     ]
    }
   ],
   "source": [
    "import mne\n",
    "import numpy as np\n",
    "import tensorflow.keras\n",
    "import os"
   ]
  },
  {
   "cell_type": "code",
   "execution_count": 3,
   "metadata": {},
   "outputs": [],
   "source": [
    "def read_edf_to_raw(file_path):\n",
    "    raw = mne.io.read_raw_edf(file_path, preload=True)\n",
    "    raw.set_eeg_reference()\n",
    "    raw.filter(l_freq=0.5, h_freq=45)\n",
    "    return raw"
   ]
  },
  {
   "cell_type": "code",
   "execution_count": 4,
   "metadata": {},
   "outputs": [],
   "source": [
    "seizures_dict = {\"chb01_03\": [[2996, 3036]],\n",
    "                \"chb01_04\": [[1467, 1494]],\n",
    "                \"chb01_15\": [[1732, 1772]],\n",
    "                \"chb01_16\": [[1015, 1066]],\n",
    "                \"chb01_18\": [[1720, 1810]],\n",
    "                \"chb01_21\": [[327, 420]],\n",
    "                \"chb01_26\": [[1862, 1963]],\n",
    "                \n",
    "                \"chb02_16\": [[130, 212]],\n",
    "\n",
    "                \"chb05_06\": [[417, 532]], \n",
    "                \"chb05_13\": [[1086, 1196]],\n",
    "                \"chb05_16\": [[2317, 2413]], \n",
    "                \"chb05_17\": [[2451, 2571]],\n",
    "                \"chb05_22\": [[2348, 2465]],\n",
    "                \n",
    "                \"chb08_02\": [[2670, 2841]], \n",
    "                \"chb08_05\": [[2856, 3046]],\n",
    "                \"chb08_11\": [[2988, 3211]], \n",
    "                \"chb08_13\": [[2417, 2577]],\n",
    "                \"chb08_21\": [[2083, 2347]]}"
   ]
  },
  {
   "cell_type": "code",
   "execution_count": null,
   "metadata": {},
   "outputs": [],
   "source": [
    "################ INPUT YOUR DATASET PATH HERE\n",
    "DATASET_PATH = os.path.join(os.getcwd(), 'data') #ONLY FOR TESTING\n",
    "\n",
    "################ CHOOSE THE FILES THAT YOU WANT HERE\n",
    "selected_files = {'chb01': ['01','02','03','04','15','16','18','21','26']}\n",
    "files = [os.path.join(DATASET_PATH, folder, f\"{folder}_{fn}.edf\") for folder, fn_list in selected_files.items() for fn in fn_list]\n",
    "\n",
    "for file_path in files:\n",
    "    print(file_path)\n",
    "\n",
    "\n",
    "# parameters for epochs generation\n",
    "epoch_time = 100\n",
    "overlap = 0\n",
    "\n",
    "# Divide into epochs\n",
    "signals = []\n",
    "labels = []\n",
    "for file_path in files:\n",
    "    # get filename: chbxx_xx.edf\n",
    "    filename = os.path.split(file_path)[1]\n",
    "    # remove .edf staying only chbxx_xx\n",
    "    filename = os.path.splitext(filename)[0]\n",
    "    \n",
    "    raw = read_edf_to_raw(file_path)\n",
    "    \n",
    "    # epochs = mne.make_fixed_length_epochs(raw, duration=epoch_time, preload=True, overlap=overlap)\n",
    "\n",
    "    curr_time = 0\n",
    "    while curr_time <= max(raw.times) - epoch_time:\n",
    "\n",
    "        # calculate window and get data to epoch array\n",
    "        start_time = curr_time \n",
    "        if start_time < 0.:\n",
    "            start_time = 0.\n",
    "        end_time = curr_time + epoch_time\n",
    "\n",
    "        start, stop = raw.time_as_index([start_time, end_time])\n",
    "        epoch = raw[:, start:stop][0]\n",
    "        signals.append(epoch)\n",
    "\n",
    "        # seizure flag for y\n",
    "        aux = []\n",
    "        if filename in seizures_dict:  # if file has seizure\n",
    "            for seizure in seizures_dict[filename]:\n",
    "                if start_time > seizure[0] and start_time < seizure[1]:\n",
    "                    aux.append(1)\n",
    "                if start_time + epoch_time > seizure[0] and start_time + epoch_time < seizure[1]:\n",
    "                    aux.append(1)\n",
    "                if start_time < seizure[0] and end_time > seizure[0]:\n",
    "                    aux.append(1)\n",
    "                if start_time < seizure[0] and end_time > seizure[1]:\n",
    "                    aux.append(1)\n",
    "                else:\n",
    "                    aux.append(0)\n",
    "        else:    \n",
    "            aux.append(0)\n",
    "        \n",
    "        # if the current time is inside at least one seizure interval -> 1; otherwise -> 0\n",
    "        if 1 in aux:\n",
    "            labels.append([1])\n",
    "        else:\n",
    "            labels.append([0])\n",
    "\n",
    "        # calculate next current time\n",
    "        curr_time = curr_time + epoch_time - overlap\n",
    "        print(\"Section \", str(len(signals)), \"; start: \", start, \" ; stop: \", stop)\n",
    "        \n",
    "signals = np.array(signals)\n",
    "labels = np.array(labels)\n"
   ]
  },
  {
   "cell_type": "code",
   "execution_count": 6,
   "metadata": {},
   "outputs": [
    {
     "data": {
      "text/plain": [
       "(303, 23, 25600)"
      ]
     },
     "execution_count": 6,
     "metadata": {},
     "output_type": "execute_result"
    }
   ],
   "source": [
    "signals.shape"
   ]
  },
  {
   "cell_type": "code",
   "execution_count": 8,
   "metadata": {},
   "outputs": [
    {
     "name": "stdout",
     "output_type": "stream",
     "text": [
      "{0: 292, 1: 11}\n"
     ]
    }
   ],
   "source": [
    "unique, counts = np.unique(labels, return_counts=True)\n",
    "print(dict(zip(unique, counts)))"
   ]
  },
  {
   "cell_type": "code",
   "execution_count": 9,
   "metadata": {},
   "outputs": [],
   "source": [
    "np.save('signals/chb01/signals.npy',signals)\n",
    "np.save('signals/chb01/labels.npy',labels)"
   ]
  }
 ],
 "metadata": {
  "kernelspec": {
   "display_name": "Python 3.8.10 ('full')",
   "language": "python",
   "name": "python3"
  },
  "language_info": {
   "codemirror_mode": {
    "name": "ipython",
    "version": 3
   },
   "file_extension": ".py",
   "mimetype": "text/x-python",
   "name": "python",
   "nbconvert_exporter": "python",
   "pygments_lexer": "ipython3",
   "version": "3.8.10"
  },
  "orig_nbformat": 4,
  "vscode": {
   "interpreter": {
    "hash": "fd156d1bfb48eb4ee1a6eb8f39a444f48635a09375c4c26039d85d949812f675"
   }
  }
 },
 "nbformat": 4,
 "nbformat_minor": 2
}
