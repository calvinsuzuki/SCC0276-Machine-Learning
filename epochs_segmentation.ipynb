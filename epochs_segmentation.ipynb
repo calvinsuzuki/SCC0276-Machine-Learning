{
 "cells": [
  {
   "cell_type": "code",
   "execution_count": 8,
   "metadata": {},
   "outputs": [],
   "source": [
    "import mne\n",
    "import numpy as np\n",
    "import glob\n",
    "import os\n",
    "import random\n",
    "from utils.dataloader import read_edf_to_raw, calculate_neg_pos"
   ]
  },
  {
   "cell_type": "code",
   "execution_count": 9,
   "metadata": {},
   "outputs": [],
   "source": [
    "seizures_dict = {\"chb01_03\": [[2996, 3036]],\n",
    "                \"chb01_04\": [[1467, 1494]],\n",
    "                \"chb01_15\": [[1732, 1772]],\n",
    "                \"chb01_16\": [[1015, 1066]],\n",
    "                \"chb01_18\": [[1720, 1810]],\n",
    "                \"chb01_21\": [[327, 420]],\n",
    "                \"chb01_26\": [[1862, 1963]],\n",
    "                \n",
    "                \"chb02_16\": [[130, 212]],\n",
    "                \"chb02_16+\": [[2972, 3053]],\n",
    "                \"chb02_19\": [[3369, 3378]],\n",
    "\n",
    "                \"chb03_01\": [[362, 414]],\n",
    "                \"chb03_02\": [[731, 796]],\n",
    "                \"chb03_03\": [[432, 501]],\n",
    "                \"chb03_04\": [[2162, 2214]],\n",
    "                \"chb03_34\": [[1982, 2029]],\n",
    "                \"chb03_35\": [[2592, 2656]],\n",
    "                \"chb03_36\": [[1725, 1778]],\n",
    "\n",
    "                \"chb05_06\": [[417, 532]], \n",
    "                \"chb05_13\": [[1086, 1196]],\n",
    "                \"chb05_16\": [[2317, 2413]], \n",
    "                \"chb05_17\": [[2451, 2571]],\n",
    "                \"chb05_22\": [[2348, 2465]],\n",
    "                \n",
    "                \"chb06_01\": [[1724, 1738], [7461, 7476], [13525, 13540]],\n",
    "                \"chb06_04\": [[327, 347], [6211, 6231]],\n",
    "                \"chb06_09\": [[12500, 12516]],\n",
    "                \"chb06_10\": [[10833, 10845]],\n",
    "                \"chb06_13\": [[506, 519]],\n",
    "                \"chb06_18\": [[7799, 7811]],\n",
    "                \"chb06_24\": [[9387, 9403]],\n",
    "\n",
    "                \"chb07_12\": [[4920, 5006]],\n",
    "                \"chb07_13\": [[3285, 3381]],\n",
    "                \"chb07_19\": [[13688, 13831]],\n",
    "\n",
    "                \"chb08_02\": [[2670, 2841]], \n",
    "                \"chb08_05\": [[2856, 3046]],\n",
    "                \"chb08_11\": [[2988, 3211]], \n",
    "                \"chb08_13\": [[2417, 2577]],\n",
    "                \"chb08_21\": [[2083, 2347]],\n",
    "                \n",
    "                \"chb10_12\": [[6313, 6348]],\n",
    "                \"chb10_20\": [[6888, 6958]],\n",
    "                \"chb10_27\": [[2382, 2447]],\n",
    "                \"chb10_30\": [[3021, 3079]],\n",
    "                \"chb10_31\": [[3801, 3877]],\n",
    "                \"chb10_38\": [[4618, 4707]],\n",
    "                \"chb10_89\": [[1383, 1437]],\n",
    "\n",
    "                \"chb23_06\": [[3962, 4075]],\n",
    "                \"chb23_08\": [[325, 345], [325, 345]],\n",
    "                \"chb23_09\": [[2589, 2660],[6885, 6947], [8505, 8532], [9580, 9664]],\n",
    "\n",
    "                \"chb24_01\": [[480, 505],[2451,2476]],\n",
    "                \"chb24_03\": [[231, 260],[2883,2908]],\n",
    "                \"chb24_04\": [[1088, 1120],[1411,1438],[1745, 1764]],\n",
    "                \"chb24_06\": [[1229, 1253]],\n",
    "                \"chb24_07\": [[38, 60]],\n",
    "                \"chb24_09\": [[1745, 1764]],\n",
    "                \"chb24_11\": [[3527, 3597]],\n",
    "                \"chb24_13\": [[3288, 3304]],\n",
    "                \"chb24_14\": [[1939, 1966]],\n",
    "                \"chb24_15\": [[3552, 3569]],\n",
    "                \"chb24_17\": [[3515, 3581]],\n",
    "                \"chb24_21\": [[2804, 2872]],\n",
    "                }"
   ]
  },
  {
   "cell_type": "markdown",
   "metadata": {},
   "source": [
    "## Balanced Dataset by Undersampling"
   ]
  },
  {
   "cell_type": "code",
   "execution_count": 15,
   "metadata": {},
   "outputs": [],
   "source": [
    "def calculate_neg_pos(y):\n",
    "    unique, counts = np.unique(y, return_counts=True)\n",
    "    dic = dict(zip(unique, counts))\n",
    "    neg = dic[0]\n",
    "    pos = dic[1]\n",
    "    return neg, pos\n",
    "\n",
    "def custom_fit_resample(x, y, rate_p=0.5):\n",
    "\n",
    "    neg, pos = calculate_neg_pos(y)\n",
    "    new_neg = (1-rate_p)/rate_p*(pos)\n",
    "\n",
    "    while neg > new_neg:\n",
    "        indice = random.randint(0, y.shape[0]-1)\n",
    "        if y[indice] == 0:\n",
    "            y = np.delete(y, indice, 0)\n",
    "            x = np.delete(x, indice, 0)\n",
    "            neg, pos = calculate_neg_pos(y)\n",
    "    \n",
    "    return x,y"
   ]
  },
  {
   "cell_type": "code",
   "execution_count": 11,
   "metadata": {},
   "outputs": [],
   "source": [
    "################ INPUT YOUR DATASET PATH HERE\n",
    "# DATASET_PATH = os.path.join(os.getcwd(), 'data') #ONLY FOR TESTING\n",
    "DATASET_PATH = \"/media/guisoares/guisoares-ext-hdd/Datasets/chb-mit/chb-mit-scalp-eeg-database-1.0.0\"\n",
    "NEW_DATASET_PATH = \"/media/guisoares/guisoares-ext-hdd/Datasets/chb-mit-segments/3\"\n",
    "\n",
    "\n",
    "selected_files = dict()\n",
    "for key in seizures_dict.keys():\n",
    "    folder, fn = key.split('_')\n",
    "    if folder in selected_files.keys():\n",
    "        selected_files[folder].append(fn)\n",
    "    else:\n",
    "        selected_files[folder] = [fn]\n",
    "    "
   ]
  },
  {
   "cell_type": "code",
   "execution_count": 12,
   "metadata": {},
   "outputs": [
    {
     "data": {
      "text/plain": [
       "{'chb01': ['03', '04', '15', '16', '18', '21', '26'],\n",
       " 'chb02': ['16', '16+', '19'],\n",
       " 'chb03': ['01', '02', '03', '04', '34', '35', '36'],\n",
       " 'chb05': ['06', '13', '16', '17', '22'],\n",
       " 'chb06': ['01', '04', '09', '10', '13', '18', '24'],\n",
       " 'chb07': ['12', '13', '19'],\n",
       " 'chb08': ['02', '05', '11', '13', '21'],\n",
       " 'chb10': ['12', '20', '27', '30', '31', '38', '89'],\n",
       " 'chb23': ['06', '08', '09'],\n",
       " 'chb24': ['01',\n",
       "  '03',\n",
       "  '04',\n",
       "  '06',\n",
       "  '07',\n",
       "  '09',\n",
       "  '11',\n",
       "  '13',\n",
       "  '14',\n",
       "  '15',\n",
       "  '17',\n",
       "  '21']}"
      ]
     },
     "execution_count": 12,
     "metadata": {},
     "output_type": "execute_result"
    }
   ],
   "source": [
    "selected_files"
   ]
  },
  {
   "cell_type": "code",
   "execution_count": 16,
   "metadata": {},
   "outputs": [
    {
     "name": "stdout",
     "output_type": "stream",
     "text": [
      "/media/guisoares/guisoares-ext-hdd/Datasets/chb-mit/chb-mit-scalp-eeg-database-1.0.0/chb01/chb01_03.edf\n",
      "/media/guisoares/guisoares-ext-hdd/Datasets/chb-mit/chb-mit-scalp-eeg-database-1.0.0/chb01/chb01_04.edf\n",
      "/media/guisoares/guisoares-ext-hdd/Datasets/chb-mit/chb-mit-scalp-eeg-database-1.0.0/chb01/chb01_15.edf\n",
      "/media/guisoares/guisoares-ext-hdd/Datasets/chb-mit/chb-mit-scalp-eeg-database-1.0.0/chb01/chb01_16.edf\n",
      "/media/guisoares/guisoares-ext-hdd/Datasets/chb-mit/chb-mit-scalp-eeg-database-1.0.0/chb01/chb01_18.edf\n",
      "/media/guisoares/guisoares-ext-hdd/Datasets/chb-mit/chb-mit-scalp-eeg-database-1.0.0/chb01/chb01_21.edf\n",
      "/media/guisoares/guisoares-ext-hdd/Datasets/chb-mit/chb-mit-scalp-eeg-database-1.0.0/chb01/chb01_26.edf\n",
      "/media/guisoares/guisoares-ext-hdd/Datasets/chb-mit/chb-mit-scalp-eeg-database-1.0.0/chb02/chb02_16.edf\n",
      "/media/guisoares/guisoares-ext-hdd/Datasets/chb-mit/chb-mit-scalp-eeg-database-1.0.0/chb02/chb02_16+.edf\n",
      "/media/guisoares/guisoares-ext-hdd/Datasets/chb-mit/chb-mit-scalp-eeg-database-1.0.0/chb02/chb02_19.edf\n",
      "/media/guisoares/guisoares-ext-hdd/Datasets/chb-mit/chb-mit-scalp-eeg-database-1.0.0/chb03/chb03_01.edf\n",
      "/media/guisoares/guisoares-ext-hdd/Datasets/chb-mit/chb-mit-scalp-eeg-database-1.0.0/chb03/chb03_02.edf\n",
      "/media/guisoares/guisoares-ext-hdd/Datasets/chb-mit/chb-mit-scalp-eeg-database-1.0.0/chb03/chb03_03.edf\n",
      "/media/guisoares/guisoares-ext-hdd/Datasets/chb-mit/chb-mit-scalp-eeg-database-1.0.0/chb03/chb03_04.edf\n",
      "/media/guisoares/guisoares-ext-hdd/Datasets/chb-mit/chb-mit-scalp-eeg-database-1.0.0/chb03/chb03_34.edf\n",
      "/media/guisoares/guisoares-ext-hdd/Datasets/chb-mit/chb-mit-scalp-eeg-database-1.0.0/chb03/chb03_35.edf\n",
      "/media/guisoares/guisoares-ext-hdd/Datasets/chb-mit/chb-mit-scalp-eeg-database-1.0.0/chb03/chb03_36.edf\n",
      "/media/guisoares/guisoares-ext-hdd/Datasets/chb-mit/chb-mit-scalp-eeg-database-1.0.0/chb05/chb05_06.edf\n",
      "/media/guisoares/guisoares-ext-hdd/Datasets/chb-mit/chb-mit-scalp-eeg-database-1.0.0/chb05/chb05_13.edf\n",
      "/media/guisoares/guisoares-ext-hdd/Datasets/chb-mit/chb-mit-scalp-eeg-database-1.0.0/chb05/chb05_16.edf\n",
      "/media/guisoares/guisoares-ext-hdd/Datasets/chb-mit/chb-mit-scalp-eeg-database-1.0.0/chb05/chb05_17.edf\n",
      "/media/guisoares/guisoares-ext-hdd/Datasets/chb-mit/chb-mit-scalp-eeg-database-1.0.0/chb05/chb05_22.edf\n",
      "/media/guisoares/guisoares-ext-hdd/Datasets/chb-mit/chb-mit-scalp-eeg-database-1.0.0/chb06/chb06_01.edf\n",
      "/media/guisoares/guisoares-ext-hdd/Datasets/chb-mit/chb-mit-scalp-eeg-database-1.0.0/chb06/chb06_04.edf\n",
      "/media/guisoares/guisoares-ext-hdd/Datasets/chb-mit/chb-mit-scalp-eeg-database-1.0.0/chb06/chb06_09.edf\n",
      "/media/guisoares/guisoares-ext-hdd/Datasets/chb-mit/chb-mit-scalp-eeg-database-1.0.0/chb06/chb06_10.edf\n",
      "/media/guisoares/guisoares-ext-hdd/Datasets/chb-mit/chb-mit-scalp-eeg-database-1.0.0/chb06/chb06_13.edf\n",
      "/media/guisoares/guisoares-ext-hdd/Datasets/chb-mit/chb-mit-scalp-eeg-database-1.0.0/chb06/chb06_18.edf\n",
      "/media/guisoares/guisoares-ext-hdd/Datasets/chb-mit/chb-mit-scalp-eeg-database-1.0.0/chb06/chb06_24.edf\n",
      "/media/guisoares/guisoares-ext-hdd/Datasets/chb-mit/chb-mit-scalp-eeg-database-1.0.0/chb07/chb07_12.edf\n",
      "/media/guisoares/guisoares-ext-hdd/Datasets/chb-mit/chb-mit-scalp-eeg-database-1.0.0/chb07/chb07_13.edf\n",
      "/media/guisoares/guisoares-ext-hdd/Datasets/chb-mit/chb-mit-scalp-eeg-database-1.0.0/chb07/chb07_19.edf\n",
      "/media/guisoares/guisoares-ext-hdd/Datasets/chb-mit/chb-mit-scalp-eeg-database-1.0.0/chb08/chb08_02.edf\n",
      "/media/guisoares/guisoares-ext-hdd/Datasets/chb-mit/chb-mit-scalp-eeg-database-1.0.0/chb08/chb08_05.edf\n",
      "/media/guisoares/guisoares-ext-hdd/Datasets/chb-mit/chb-mit-scalp-eeg-database-1.0.0/chb08/chb08_11.edf\n",
      "/media/guisoares/guisoares-ext-hdd/Datasets/chb-mit/chb-mit-scalp-eeg-database-1.0.0/chb08/chb08_13.edf\n",
      "/media/guisoares/guisoares-ext-hdd/Datasets/chb-mit/chb-mit-scalp-eeg-database-1.0.0/chb08/chb08_21.edf\n",
      "/media/guisoares/guisoares-ext-hdd/Datasets/chb-mit/chb-mit-scalp-eeg-database-1.0.0/chb10/chb10_12.edf\n",
      "/media/guisoares/guisoares-ext-hdd/Datasets/chb-mit/chb-mit-scalp-eeg-database-1.0.0/chb10/chb10_20.edf\n",
      "/media/guisoares/guisoares-ext-hdd/Datasets/chb-mit/chb-mit-scalp-eeg-database-1.0.0/chb10/chb10_27.edf\n",
      "/media/guisoares/guisoares-ext-hdd/Datasets/chb-mit/chb-mit-scalp-eeg-database-1.0.0/chb10/chb10_30.edf\n",
      "/media/guisoares/guisoares-ext-hdd/Datasets/chb-mit/chb-mit-scalp-eeg-database-1.0.0/chb10/chb10_31.edf\n",
      "/media/guisoares/guisoares-ext-hdd/Datasets/chb-mit/chb-mit-scalp-eeg-database-1.0.0/chb10/chb10_38.edf\n",
      "/media/guisoares/guisoares-ext-hdd/Datasets/chb-mit/chb-mit-scalp-eeg-database-1.0.0/chb10/chb10_89.edf\n",
      "/media/guisoares/guisoares-ext-hdd/Datasets/chb-mit/chb-mit-scalp-eeg-database-1.0.0/chb23/chb23_06.edf\n",
      "/media/guisoares/guisoares-ext-hdd/Datasets/chb-mit/chb-mit-scalp-eeg-database-1.0.0/chb23/chb23_08.edf\n",
      "/media/guisoares/guisoares-ext-hdd/Datasets/chb-mit/chb-mit-scalp-eeg-database-1.0.0/chb23/chb23_09.edf\n",
      "/media/guisoares/guisoares-ext-hdd/Datasets/chb-mit/chb-mit-scalp-eeg-database-1.0.0/chb24/chb24_01.edf\n",
      "/media/guisoares/guisoares-ext-hdd/Datasets/chb-mit/chb-mit-scalp-eeg-database-1.0.0/chb24/chb24_03.edf\n",
      "/media/guisoares/guisoares-ext-hdd/Datasets/chb-mit/chb-mit-scalp-eeg-database-1.0.0/chb24/chb24_04.edf\n",
      "/media/guisoares/guisoares-ext-hdd/Datasets/chb-mit/chb-mit-scalp-eeg-database-1.0.0/chb24/chb24_06.edf\n",
      "/media/guisoares/guisoares-ext-hdd/Datasets/chb-mit/chb-mit-scalp-eeg-database-1.0.0/chb24/chb24_07.edf\n",
      "/media/guisoares/guisoares-ext-hdd/Datasets/chb-mit/chb-mit-scalp-eeg-database-1.0.0/chb24/chb24_09.edf\n",
      "/media/guisoares/guisoares-ext-hdd/Datasets/chb-mit/chb-mit-scalp-eeg-database-1.0.0/chb24/chb24_11.edf\n",
      "/media/guisoares/guisoares-ext-hdd/Datasets/chb-mit/chb-mit-scalp-eeg-database-1.0.0/chb24/chb24_13.edf\n",
      "/media/guisoares/guisoares-ext-hdd/Datasets/chb-mit/chb-mit-scalp-eeg-database-1.0.0/chb24/chb24_14.edf\n",
      "/media/guisoares/guisoares-ext-hdd/Datasets/chb-mit/chb-mit-scalp-eeg-database-1.0.0/chb24/chb24_15.edf\n",
      "/media/guisoares/guisoares-ext-hdd/Datasets/chb-mit/chb-mit-scalp-eeg-database-1.0.0/chb24/chb24_17.edf\n",
      "/media/guisoares/guisoares-ext-hdd/Datasets/chb-mit/chb-mit-scalp-eeg-database-1.0.0/chb24/chb24_21.edf\n"
     ]
    },
    {
     "name": "stderr",
     "output_type": "stream",
     "text": [
      "/home/guisoares/soares_repo/SCC0276-Machine-Learning/utils/dataloader.py:15: RuntimeWarning: Channel names are not unique, found duplicates for: {'T8-P8'}. Applying running numbers for duplicates.\n",
      "  raw = mne.io.read_raw_edf(file_path, preload=True, verbose=False)\n"
     ]
    },
    {
     "name": "stdout",
     "output_type": "stream",
     "text": [
      "Finished labeling file chb01_03\n",
      "(7, 7)\n",
      "Saving file chb01_03_segments.npz...\n"
     ]
    },
    {
     "name": "stderr",
     "output_type": "stream",
     "text": [
      "/home/guisoares/soares_repo/SCC0276-Machine-Learning/utils/dataloader.py:15: RuntimeWarning: Channel names are not unique, found duplicates for: {'T8-P8'}. Applying running numbers for duplicates.\n",
      "  raw = mne.io.read_raw_edf(file_path, preload=True, verbose=False)\n"
     ]
    },
    {
     "name": "stdout",
     "output_type": "stream",
     "text": [
      "Finished labeling file chb01_04\n"
     ]
    }
   ],
   "source": [
    "################ CHOOSE THE FILES THAT YOU WANT HERE\n",
    "# selected_files = {\n",
    "#                 'chb01': ['03','04','15','16','18','21','26'],\n",
    "#                 'chb02': ['16'],\n",
    "#                 'chb05': ['06', '13', '16', '17', '22'],\n",
    "#                 'chb08': ['02','05','11','13','21']\n",
    "#                 }\n",
    "\n",
    "files = [os.path.join(DATASET_PATH, folder, f\"{folder}_{fn}.edf\") for folder, fn_list in selected_files.items() for fn in fn_list]\n",
    "\n",
    "for file_path in files:\n",
    "    print(file_path)\n",
    "\n",
    "# parameters for epochs generation\n",
    "epoch_time = 50\n",
    "overlap = 40\n",
    "\n",
    "# for each patient\n",
    "for folder, fn_list in selected_files.items():\n",
    "\n",
    "    # signals and labels for each patient\n",
    "    signals = []\n",
    "    labels = []\n",
    "    # for each file of specific patitent\n",
    "    for fn in fn_list:\n",
    "        file_path = os.path.join(DATASET_PATH, folder, f\"{folder}_{fn}.edf\")\n",
    "        # get filename: chbxx_xx.edf\n",
    "        filename = os.path.split(file_path)[1]\n",
    "        # remove .edf staying only chbxx_xx\n",
    "        filename = os.path.splitext(filename)[0]\n",
    "        \n",
    "        raw = read_edf_to_raw(file_path)\n",
    "        \n",
    "        # start 10 epochs before the crises\n",
    "        curr_time = seizures_dict[filename][0][0] - 100\n",
    "        \n",
    "        # Divide into epochs\n",
    "        while curr_time <= max(raw.times) - epoch_time:\n",
    "\n",
    "            # calculate window and get data to epoch array\n",
    "            start_time = curr_time \n",
    "            if start_time < 0.:\n",
    "                start_time = 0.\n",
    "            end_time = curr_time + epoch_time\n",
    "\n",
    "            # seizure flag for y\n",
    "            aux = []\n",
    "            if filename in seizures_dict:  # if file has seizure\n",
    "                for seizure in seizures_dict[filename]:\n",
    "                    if start_time > seizure[0] and start_time < seizure[1]:\n",
    "                        aux.append(1)\n",
    "                    if start_time + epoch_time > seizure[0] and start_time + epoch_time < seizure[1]:\n",
    "                        aux.append(1)\n",
    "                    if start_time < seizure[0] and end_time > seizure[0]:\n",
    "                        aux.append(1)\n",
    "                    if start_time < seizure[0] and end_time > seizure[1]:\n",
    "                        aux.append(1)\n",
    "                    else:\n",
    "                        aux.append(0)\n",
    "            else:    \n",
    "                aux.append(0)\n",
    "            \n",
    "            # if the current time is inside at least one seizure interval -> 1; otherwise -> 0\n",
    "            if 1 in aux:\n",
    "                labels.append([1])\n",
    "            else:\n",
    "                labels.append([0])\n",
    "\n",
    "            start, stop = raw.time_as_index([start_time, end_time])\n",
    "            epoch = raw[:, start:stop][0]\n",
    "            signals.append(epoch)\n",
    "\n",
    "            # calculate next current time\n",
    "            curr_time = curr_time + epoch_time - overlap\n",
    "            # print(\"Section \", str(len(signals)), \"; start: \", start, \" ; stop: \", stop, \"\\r\")\n",
    "        \n",
    "        # next iteration\n",
    "        print(f\"Finished labeling file {filename}\")\n",
    "    \n",
    "        # fit and apply the transform\n",
    "        x_over, y_over = custom_fit_resample(np.array(signals), np.array(labels))\n",
    "\n",
    "        new_filename = filename + \"_segments.npz\"\n",
    "        new_file_path = os.path.join(NEW_DATASET_PATH, new_filename)\n",
    "\n",
    "        print(calculate_neg_pos(y_over))\n",
    "\n",
    "        print(f\"Saving file {new_filename}...\")\n",
    "        np.savez(new_file_path, x_over, y_over)\n",
    "        \n",
    "signals = np.array(signals)\n",
    "labels = np.array(labels)"
   ]
  },
  {
   "cell_type": "code",
   "execution_count": null,
   "metadata": {},
   "outputs": [
    {
     "name": "stdout",
     "output_type": "stream",
     "text": [
      "(2, 1)\n"
     ]
    }
   ],
   "source": [
    "print(calculate_neg_pos(y_over))"
   ]
  },
  {
   "cell_type": "markdown",
   "metadata": {},
   "source": [
    "## Counting features"
   ]
  },
  {
   "cell_type": "code",
   "execution_count": null,
   "metadata": {},
   "outputs": [],
   "source": [
    "def read_npz(file):\n",
    "    arrays = np.load(file)\n",
    "    x = arrays['arr_0']\n",
    "    y = arrays['arr_1']\n",
    "    return x, y"
   ]
  },
  {
   "cell_type": "code",
   "execution_count": null,
   "metadata": {},
   "outputs": [
    {
     "name": "stdout",
     "output_type": "stream",
     "text": [
      "/media/guisoares/guisoares-ext-hdd/Datasets/chb-mit-segments/2/chb01_segments.npz\n",
      "/media/guisoares/guisoares-ext-hdd/Datasets/chb-mit-segments/2/chb02_segments.npz\n",
      "/media/guisoares/guisoares-ext-hdd/Datasets/chb-mit-segments/2/chb03_segments.npz\n",
      "/media/guisoares/guisoares-ext-hdd/Datasets/chb-mit-segments/2/chb05_segments.npz\n",
      "38 87\n"
     ]
    }
   ],
   "source": [
    "train_files = glob.glob(os.path.join(NEW_DATASET_PATH,\"*.npz\"))\n",
    "# test_files = glob.glob(os.path.join(NEW_DATASET_PATH,'test',\"*.npz\"))\n",
    "\n",
    "negatives = 0\n",
    "positives = 0\n",
    "for file in train_files:\n",
    "    print(file)\n",
    "    _, y = read_npz(file)\n",
    "\n",
    "    unique, counts = np.unique(y, return_counts=True)\n",
    "    dic = dict(zip(unique, counts))\n",
    "    negatives += dic[0]\n",
    "    try:\n",
    "        positives += dic[1]\n",
    "    except:\n",
    "        pass\n",
    "\n",
    "print(positives, negatives)"
   ]
  },
  {
   "cell_type": "code",
   "execution_count": null,
   "metadata": {},
   "outputs": [
    {
     "ename": "NameError",
     "evalue": "name 'dic' is not defined",
     "output_type": "error",
     "traceback": [
      "\u001b[0;31m---------------------------------------------------------------------------\u001b[0m",
      "\u001b[0;31mNameError\u001b[0m                                 Traceback (most recent call last)",
      "\u001b[0;32m/tmp/ipykernel_68340/1780369169.py\u001b[0m in \u001b[0;36m<module>\u001b[0;34m\u001b[0m\n\u001b[0;32m----> 1\u001b[0;31m \u001b[0mdic\u001b[0m\u001b[0;34m\u001b[0m\u001b[0;34m\u001b[0m\u001b[0m\n\u001b[0m",
      "\u001b[0;31mNameError\u001b[0m: name 'dic' is not defined"
     ]
    }
   ],
   "source": [
    "dic"
   ]
  },
  {
   "cell_type": "code",
   "execution_count": null,
   "metadata": {},
   "outputs": [],
   "source": []
  }
 ],
 "metadata": {
  "kernelspec": {
   "display_name": "Python 3.8.10 ('full')",
   "language": "python",
   "name": "python3"
  },
  "language_info": {
   "codemirror_mode": {
    "name": "ipython",
    "version": 3
   },
   "file_extension": ".py",
   "mimetype": "text/x-python",
   "name": "python",
   "nbconvert_exporter": "python",
   "pygments_lexer": "ipython3",
   "version": "3.8.10"
  },
  "orig_nbformat": 4,
  "vscode": {
   "interpreter": {
    "hash": "fd156d1bfb48eb4ee1a6eb8f39a444f48635a09375c4c26039d85d949812f675"
   }
  }
 },
 "nbformat": 4,
 "nbformat_minor": 2
}
