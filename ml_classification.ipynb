{
 "cells": [
  {
   "cell_type": "markdown",
   "id": "ab9a03ca",
   "metadata": {},
   "source": [
    "# Classification of seizures or non seizures by features from EEG data"
   ]
  },
  {
   "cell_type": "markdown",
   "id": "0600f9fc",
   "metadata": {},
   "source": [
    "## Data preparation"
   ]
  },
  {
   "cell_type": "code",
   "execution_count": 2,
   "id": "86f1a720",
   "metadata": {},
   "outputs": [],
   "source": [
    "import os\n",
    "import mne\n",
    "import numpy as np\n",
    "import pandas as pd\n",
    "import glob"
   ]
  },
  {
   "cell_type": "markdown",
   "id": "32be46f1",
   "metadata": {},
   "source": [
    "### Load .csv files"
   ]
  },
  {
   "cell_type": "code",
   "execution_count": 3,
   "id": "7df37691",
   "metadata": {},
   "outputs": [
    {
     "data": {
      "text/html": [
       "<div>\n",
       "<style scoped>\n",
       "    .dataframe tbody tr th:only-of-type {\n",
       "        vertical-align: middle;\n",
       "    }\n",
       "\n",
       "    .dataframe tbody tr th {\n",
       "        vertical-align: top;\n",
       "    }\n",
       "\n",
       "    .dataframe thead th {\n",
       "        text-align: right;\n",
       "    }\n",
       "</style>\n",
       "<table border=\"1\" class=\"dataframe\">\n",
       "  <thead>\n",
       "    <tr style=\"text-align: right;\">\n",
       "      <th></th>\n",
       "      <th>start_time</th>\n",
       "      <th>FP1-F7_rms</th>\n",
       "      <th>FP1-F7_variance</th>\n",
       "      <th>FP1-F7_kurtosis</th>\n",
       "      <th>FP1-F7_skewness</th>\n",
       "      <th>FP1-F7_max_amp</th>\n",
       "      <th>FP1-F7_min_amp</th>\n",
       "      <th>FP1-F7_n_peaks</th>\n",
       "      <th>FP1-F7_n_crossings</th>\n",
       "      <th>FP1-F7_hfd</th>\n",
       "      <th>...</th>\n",
       "      <th>T8-P8-1_median_freq</th>\n",
       "      <th>T8-P8-1_peak_freq</th>\n",
       "      <th>T8-P8-1_hjorth_mobility</th>\n",
       "      <th>T8-P8-1_hjorth_complexity</th>\n",
       "      <th>T8-P8-1_power_1hz</th>\n",
       "      <th>T8-P8-1_power_5hz</th>\n",
       "      <th>T8-P8-1_power_10hz</th>\n",
       "      <th>T8-P8-1_power_15hz</th>\n",
       "      <th>T8-P8-1_power_20hz</th>\n",
       "      <th>seizure</th>\n",
       "    </tr>\n",
       "  </thead>\n",
       "  <tbody>\n",
       "    <tr>\n",
       "      <th>0</th>\n",
       "      <td>0</td>\n",
       "      <td>0.000077</td>\n",
       "      <td>5.710358e-09</td>\n",
       "      <td>3.148057</td>\n",
       "      <td>0.466432</td>\n",
       "      <td>0.000326</td>\n",
       "      <td>-0.000265</td>\n",
       "      <td>192.0</td>\n",
       "      <td>162.0</td>\n",
       "      <td>0.110011</td>\n",
       "      <td>...</td>\n",
       "      <td>3.0</td>\n",
       "      <td>1.0</td>\n",
       "      <td>0.002766</td>\n",
       "      <td>171.222337</td>\n",
       "      <td>0.420823</td>\n",
       "      <td>0.226051</td>\n",
       "      <td>0.128492</td>\n",
       "      <td>0.106838</td>\n",
       "      <td>0.117797</td>\n",
       "      <td>0</td>\n",
       "    </tr>\n",
       "    <tr>\n",
       "      <th>1</th>\n",
       "      <td>1</td>\n",
       "      <td>0.000072</td>\n",
       "      <td>5.183641e-09</td>\n",
       "      <td>4.726739</td>\n",
       "      <td>0.330759</td>\n",
       "      <td>0.000326</td>\n",
       "      <td>-0.000265</td>\n",
       "      <td>192.0</td>\n",
       "      <td>168.0</td>\n",
       "      <td>0.107901</td>\n",
       "      <td>...</td>\n",
       "      <td>3.0</td>\n",
       "      <td>1.0</td>\n",
       "      <td>0.003211</td>\n",
       "      <td>148.493351</td>\n",
       "      <td>0.384135</td>\n",
       "      <td>0.234295</td>\n",
       "      <td>0.140616</td>\n",
       "      <td>0.115382</td>\n",
       "      <td>0.125572</td>\n",
       "      <td>0</td>\n",
       "    </tr>\n",
       "    <tr>\n",
       "      <th>2</th>\n",
       "      <td>2</td>\n",
       "      <td>0.000069</td>\n",
       "      <td>4.818348e-09</td>\n",
       "      <td>5.677232</td>\n",
       "      <td>0.423363</td>\n",
       "      <td>0.000326</td>\n",
       "      <td>-0.000265</td>\n",
       "      <td>202.0</td>\n",
       "      <td>184.0</td>\n",
       "      <td>0.117626</td>\n",
       "      <td>...</td>\n",
       "      <td>3.0</td>\n",
       "      <td>1.0</td>\n",
       "      <td>0.003564</td>\n",
       "      <td>142.209197</td>\n",
       "      <td>0.389655</td>\n",
       "      <td>0.238327</td>\n",
       "      <td>0.124545</td>\n",
       "      <td>0.109260</td>\n",
       "      <td>0.138213</td>\n",
       "      <td>0</td>\n",
       "    </tr>\n",
       "    <tr>\n",
       "      <th>3</th>\n",
       "      <td>3</td>\n",
       "      <td>0.000071</td>\n",
       "      <td>5.102686e-09</td>\n",
       "      <td>6.534230</td>\n",
       "      <td>0.724773</td>\n",
       "      <td>0.000418</td>\n",
       "      <td>-0.000265</td>\n",
       "      <td>202.0</td>\n",
       "      <td>177.0</td>\n",
       "      <td>0.120345</td>\n",
       "      <td>...</td>\n",
       "      <td>3.0</td>\n",
       "      <td>1.0</td>\n",
       "      <td>0.003514</td>\n",
       "      <td>140.840795</td>\n",
       "      <td>0.396989</td>\n",
       "      <td>0.232559</td>\n",
       "      <td>0.120853</td>\n",
       "      <td>0.118132</td>\n",
       "      <td>0.131467</td>\n",
       "      <td>0</td>\n",
       "    </tr>\n",
       "    <tr>\n",
       "      <th>4</th>\n",
       "      <td>4</td>\n",
       "      <td>0.000077</td>\n",
       "      <td>5.873400e-09</td>\n",
       "      <td>5.990930</td>\n",
       "      <td>0.941052</td>\n",
       "      <td>0.000418</td>\n",
       "      <td>-0.000265</td>\n",
       "      <td>199.0</td>\n",
       "      <td>167.0</td>\n",
       "      <td>0.112363</td>\n",
       "      <td>...</td>\n",
       "      <td>3.0</td>\n",
       "      <td>1.0</td>\n",
       "      <td>0.003494</td>\n",
       "      <td>142.434220</td>\n",
       "      <td>0.390794</td>\n",
       "      <td>0.230665</td>\n",
       "      <td>0.125717</td>\n",
       "      <td>0.119646</td>\n",
       "      <td>0.133177</td>\n",
       "      <td>0</td>\n",
       "    </tr>\n",
       "  </tbody>\n",
       "</table>\n",
       "<p>5 rows × 508 columns</p>\n",
       "</div>"
      ],
      "text/plain": [
       "   start_time  FP1-F7_rms  FP1-F7_variance  FP1-F7_kurtosis  FP1-F7_skewness  \\\n",
       "0           0    0.000077     5.710358e-09         3.148057         0.466432   \n",
       "1           1    0.000072     5.183641e-09         4.726739         0.330759   \n",
       "2           2    0.000069     4.818348e-09         5.677232         0.423363   \n",
       "3           3    0.000071     5.102686e-09         6.534230         0.724773   \n",
       "4           4    0.000077     5.873400e-09         5.990930         0.941052   \n",
       "\n",
       "   FP1-F7_max_amp  FP1-F7_min_amp  FP1-F7_n_peaks  FP1-F7_n_crossings  \\\n",
       "0        0.000326       -0.000265           192.0               162.0   \n",
       "1        0.000326       -0.000265           192.0               168.0   \n",
       "2        0.000326       -0.000265           202.0               184.0   \n",
       "3        0.000418       -0.000265           202.0               177.0   \n",
       "4        0.000418       -0.000265           199.0               167.0   \n",
       "\n",
       "   FP1-F7_hfd  ...  T8-P8-1_median_freq  T8-P8-1_peak_freq  \\\n",
       "0    0.110011  ...                  3.0                1.0   \n",
       "1    0.107901  ...                  3.0                1.0   \n",
       "2    0.117626  ...                  3.0                1.0   \n",
       "3    0.120345  ...                  3.0                1.0   \n",
       "4    0.112363  ...                  3.0                1.0   \n",
       "\n",
       "   T8-P8-1_hjorth_mobility  T8-P8-1_hjorth_complexity  T8-P8-1_power_1hz  \\\n",
       "0                 0.002766                 171.222337           0.420823   \n",
       "1                 0.003211                 148.493351           0.384135   \n",
       "2                 0.003564                 142.209197           0.389655   \n",
       "3                 0.003514                 140.840795           0.396989   \n",
       "4                 0.003494                 142.434220           0.390794   \n",
       "\n",
       "   T8-P8-1_power_5hz  T8-P8-1_power_10hz  T8-P8-1_power_15hz  \\\n",
       "0           0.226051            0.128492            0.106838   \n",
       "1           0.234295            0.140616            0.115382   \n",
       "2           0.238327            0.124545            0.109260   \n",
       "3           0.232559            0.120853            0.118132   \n",
       "4           0.230665            0.125717            0.119646   \n",
       "\n",
       "   T8-P8-1_power_20hz  seizure  \n",
       "0            0.117797        0  \n",
       "1            0.125572        0  \n",
       "2            0.138213        0  \n",
       "3            0.131467        0  \n",
       "4            0.133177        0  \n",
       "\n",
       "[5 rows x 508 columns]"
      ]
     },
     "execution_count": 3,
     "metadata": {},
     "output_type": "execute_result"
    }
   ],
   "source": [
    "# CHANGE THIS PATH FOR THE FOLDER THAT CONTAINS THE .csv FILES OF SPECIFIC PREPROCESSED DATA\n",
    "folder_path = os.path.join('processed_data','chb01_int10_ov00')\n",
    "\n",
    "# paths of all files\n",
    "preproc_files = glob.glob(os.path.join(folder_path, \"*.csv\"))\n",
    "\n",
    "dataset_list = []\n",
    "for file_path in preproc_files:\n",
    "    # concadenate files\n",
    "    data = pd.read_csv(file_path)\n",
    "    dataset_list.append(data)\n",
    "\n",
    "dataset = pd.concat(dataset_list)\n",
    "dataset.head()\n"
   ]
  },
  {
   "cell_type": "markdown",
   "id": "ad24bd52",
   "metadata": {},
   "source": [
    "### Exclude not usefull things"
   ]
  },
  {
   "cell_type": "code",
   "execution_count": 4,
   "id": "ffd09d7a",
   "metadata": {},
   "outputs": [],
   "source": [
    "x = dataset.loc[:, dataset.columns != \"seizure\"]\n",
    "x = x.loc[:, x.columns != \"start_time\"]\n",
    "x = x.loc[:, x.columns != \"file ID\"]\n",
    "y = np.asarray(dataset['seizure'])"
   ]
  },
  {
   "cell_type": "markdown",
   "id": "6ac295bd",
   "metadata": {},
   "source": [
    "### Separate features and labels and normalize features"
   ]
  },
  {
   "cell_type": "code",
   "execution_count": 5,
   "id": "a3f0c406",
   "metadata": {},
   "outputs": [
    {
     "name": "stdout",
     "output_type": "stream",
     "text": [
      "(31044, 506)\n",
      "{0: 30539, 1: 505}\n"
     ]
    }
   ],
   "source": [
    "from sklearn import preprocessing\n",
    "\n",
    "x = preprocessing.normalize(x)\n",
    "print(x.shape)\n",
    "\n",
    "unique, counts = np.unique(y, return_counts=True)\n",
    "print(dict(zip(unique, counts)))"
   ]
  },
  {
   "cell_type": "markdown",
   "id": "55c89f67",
   "metadata": {},
   "source": [
    "### Separate in train and test "
   ]
  },
  {
   "cell_type": "code",
   "execution_count": 6,
   "id": "9e9d77db",
   "metadata": {},
   "outputs": [
    {
     "name": "stdout",
     "output_type": "stream",
     "text": [
      "(15522, 506)\n",
      "(15522,)\n",
      "(15522, 506)\n",
      "(15522,)\n",
      "{0: 15271, 1: 251}\n",
      "{0: 15268, 1: 254}\n"
     ]
    }
   ],
   "source": [
    "from sklearn.model_selection import train_test_split\n",
    "\n",
    "x_train_unb, x_test, y_train_unb, y_test =  train_test_split(x, y, test_size = 0.5, random_state = 0)\n",
    "print(x_train_unb.shape)\n",
    "print(y_train_unb.shape)\n",
    "print(x_test.shape)\n",
    "print(y_test.shape)\n",
    "\n",
    "unique, counts = np.unique(y_train_unb, return_counts=True)\n",
    "print(dict(zip(unique, counts)))\n",
    "\n",
    "unique, counts = np.unique(y_test, return_counts=True)\n",
    "print(dict(zip(unique, counts)))\n"
   ]
  },
  {
   "cell_type": "markdown",
   "id": "20a3d3d4",
   "metadata": {},
   "source": [
    "### Balancing training set"
   ]
  },
  {
   "cell_type": "code",
   "execution_count": 7,
   "id": "9d003cc1",
   "metadata": {},
   "outputs": [],
   "source": [
    "from sklearn.utils import resample\n",
    "\n",
    "def balance_train_set(x_train_unb, y_train_unb):\n",
    "    labels_train = np.hstack((x_train_unb, np.expand_dims(y_train_unb, axis=1)))\n",
    "    print(labels_train.shape)\n",
    "\n",
    "    non_seizure_idx = np.nonzero(labels_train[:,276] == 0)\n",
    "    labels_majority = labels_train[non_seizure_idx]\n",
    "\n",
    "    seizure_idx = np.nonzero(labels_train[:,276] == 1)\n",
    "    labels_minority = labels_train[seizure_idx]\n",
    "\n",
    "    print(\"Before balancing:\")\n",
    "    print(np.shape(labels_majority))\n",
    "    print(np.shape(labels_minority))\n",
    "\n",
    "    labels_minority = resample(labels_minority,\n",
    "                                replace=True,\n",
    "                                n_samples=int(0.5*labels_majority.shape[0]),\n",
    "                                random_state=123)\n",
    "\n",
    "    print(\"After balancing:\")\n",
    "    print(np.shape(labels_majority))\n",
    "    print(np.shape(labels_minority))\n",
    "\n",
    "    labels_balanced = np.concatenate((labels_majority, labels_minority))\n",
    "\n",
    "    np.random.shuffle(labels_balanced)\n",
    "    x_train, y_train = labels_balanced[:,:276], labels_balanced[:,276]\n",
    "\n",
    "    print(\"Full data after balancing:\")\n",
    "    print(x_train.shape)\n",
    "    print(y_train.shape)\n",
    "\n",
    "    unique, counts = np.unique(y_train, return_counts=True)\n",
    "    print(dict(zip(unique, counts)))\n",
    "\n",
    "    return x_train, y_train\n",
    "\n",
    "# balance train set\n",
    "# x_train, y_train = balance_train_set(x_train_unb, y_train_unb)\n",
    "\n",
    "# do not balance the train set\n",
    "x_train, y_train = x_train_unb, y_train_unb"
   ]
  },
  {
   "cell_type": "markdown",
   "id": "c3d8ea56",
   "metadata": {},
   "source": [
    "## Training and evaluating ML models"
   ]
  },
  {
   "cell_type": "markdown",
   "id": "a50da241",
   "metadata": {},
   "source": [
    "### SVM Classifier"
   ]
  },
  {
   "cell_type": "code",
   "execution_count": 9,
   "id": "e40ee26a",
   "metadata": {},
   "outputs": [
    {
     "name": "stdout",
     "output_type": "stream",
     "text": [
      "SVM KFold results\n",
      "Accuracy: [0.984219001610306, 0.985829307568438, 0.9867912371134021, 0.9861469072164949, 0.9900128865979382]\n",
      "True Positive Rate: [1.0, 0.9454545454545454, 1.0, 0.9583333333333334, 1.0]\n",
      "False Positive Rate: [0.01602878639188747, 0.013442622950819673, 0.013416230366492147, 0.013416230366492147, 0.010157273918741808]\n",
      "Accuracy: 0.9865998680213158\n",
      "True Positive Rate: 0.9807575757575758\n",
      "False Positive Rate: 0.01329222879888665\n"
     ]
    }
   ],
   "source": [
    "from sklearn.model_selection import train_test_split, GridSearchCV, cross_val_score, KFold\n",
    "from sklearn.metrics import confusion_matrix, accuracy_score, classification_report\n",
    "from sklearn.svm import SVC\n",
    "\n",
    "svm = SVC(kernel=\"rbf\", class_weight='balanced', random_state = 0)\n",
    "\n",
    "# cross validation\n",
    "kf = KFold(n_splits=5)\n",
    "accuracy, tpr, fpr = [], [], []\n",
    "for train, test in kf.split(x_train):\n",
    "    svm.fit(x_train[train, :], y_train[train])\n",
    "    pred = svm.predict(x_train[test])\n",
    "    tn, fp, fn, tp = confusion_matrix(y_train[test], pred).ravel()\n",
    "    accuracy.append((tp + tn)/(tn + fp + fn + tp))\n",
    "    #print(\"true positive: %.4f\\ntrue negative: %.4f\\nfalse positive: %.4f\\nfalse negative: %.4f\\n\" % (tp, tn, fp, fn))\n",
    "    tpr.append(tp / (tp + fn))\n",
    "    fpr.append(fp / (fp + tn))\n",
    "\n",
    "print(\"SVM KFold results\")\n",
    "print(f\"Accuracy: {accuracy}\")\n",
    "print(f\"True Positive Rate: {tpr}\")\n",
    "print(f\"False Positive Rate: {fpr}\")\n",
    "print(f\"Accuracy: {np.mean(accuracy)}\")\n",
    "print(f\"True Positive Rate: {np.mean(tpr)}\")\n",
    "print(f\"False Positive Rate: {np.mean(fpr)}\")"
   ]
  },
  {
   "cell_type": "code",
   "execution_count": 16,
   "id": "4b98fc99",
   "metadata": {},
   "outputs": [
    {
     "name": "stdout",
     "output_type": "stream",
     "text": [
      "SVM validation results\n",
      "Accuracy: 0.9888\n",
      "True Positive Rate: 0.9921\n",
      "False Positive Rate: 0.0113\n"
     ]
    }
   ],
   "source": [
    "# Testing \n",
    "svm.fit(x_train, y_train)\n",
    "pred = svm.predict(x_test)\n",
    "tn, fp, fn, tp = confusion_matrix(y_test, pred).ravel()\n",
    "accuracy = (tp + tn)/(tn + fp + fn + tp)\n",
    "tpr = tp / (tp + fn)\n",
    "fpr = fp / (fp + tn)\n",
    "\n",
    "print(\"SVM validation results\")\n",
    "print(\"Accuracy: %.4f\" % (accuracy))\n",
    "print(\"True Positive Rate: %.4f\" % (tpr))\n",
    "print(\"False Positive Rate: %.4f\" % (fpr))"
   ]
  },
  {
   "cell_type": "code",
   "execution_count": 15,
   "id": "3f094945",
   "metadata": {},
   "outputs": [
    {
     "name": "stdout",
     "output_type": "stream",
     "text": [
      "MLP KFold results\n",
      "Accuracy: [0.9967793880837359, 0.9951690821256038, 0.9964561855670103, 0.9967783505154639, 0.9958118556701031]\n",
      "True Positive Rate: [0.7916666666666666, 0.8909090909090909, 0.8125, 0.9166666666666666, 0.75]\n",
      "False Positive Rate: [0.0, 0.0029508196721311475, 0.0006544502617801048, 0.001963350785340314, 0.0]\n",
      "Accuracy: 0.9961989723923835\n",
      "True Positive Rate: 0.8323484848484849\n",
      "False Positive Rate: 0.0011137241438503131\n"
     ]
    }
   ],
   "source": [
    "from sklearn.neural_network import MLPClassifier\n",
    "mlp = MLPClassifier(activation='relu', alpha=0.0001, batch_size='auto', beta_1=0.9,\n",
    "       beta_2=0.999, early_stopping=False, epsilon=1e-08,\n",
    "       hidden_layer_sizes=(10, 10), learning_rate='constant',\n",
    "       learning_rate_init=0.001, max_iter=2000, momentum=0.9,\n",
    "       nesterovs_momentum=True, power_t=0.5, random_state=None,\n",
    "       shuffle=True, solver='adam', tol=0.0001, validation_fraction=0.1,\n",
    "       verbose=False, warm_start=False)\n",
    "\n",
    "# cross validation\n",
    "kf = KFold(n_splits=5)\n",
    "accuracy, tpr, fpr = [], [], []\n",
    "for train, test in kf.split(x_train):\n",
    "    mlp.fit(x_train[train, :], y_train[train])\n",
    "    pred = mlp.predict(x_train[test])\n",
    "    tn, fp, fn, tp = confusion_matrix(y_train[test], pred).ravel()\n",
    "    accuracy.append((tp + tn)/(tn + fp + fn + tp))\n",
    "    tpr.append(tp / (tp + fn))\n",
    "    fpr.append(fp / (fp + tn))\n",
    "\n",
    "\n",
    "print(\"MLP KFold results\")\n",
    "print(f\"Accuracy: {accuracy}\")\n",
    "print(f\"True Positive Rate: {tpr}\")\n",
    "print(f\"False Positive Rate: {fpr}\")\n",
    "print(f\"Accuracy: {np.mean(accuracy)}\")\n",
    "print(f\"True Positive Rate: {np.mean(tpr)}\")\n",
    "print(f\"False Positive Rate: {np.mean(fpr)}\")"
   ]
  },
  {
   "cell_type": "code",
   "execution_count": 20,
   "id": "cf3a0a8a",
   "metadata": {},
   "outputs": [
    {
     "name": "stdout",
     "output_type": "stream",
     "text": [
      "MLP validation results\n",
      "Accuracy: 0.9977\n",
      "True Positive Rate: 0.8819\n",
      "False Positive Rate: 0.0003\n"
     ]
    }
   ],
   "source": [
    "# Testing \n",
    "mlp.fit(x_train, y_train)\n",
    "pred = mlp.predict(x_test)\n",
    "tn, fp, fn, tp = confusion_matrix(y_test, pred).ravel()\n",
    "accuracy = (tp + tn)/(tn + fp + fn + tp)\n",
    "tpr = tp / (tp + fn)\n",
    "fpr = fp / (fp + tn)\n",
    "\n",
    "print(\"MLP validation results\")\n",
    "print(\"Accuracy: %.4f\" % (accuracy))\n",
    "print(\"True Positive Rate: %.4f\" % (tpr))\n",
    "print(\"False Positive Rate: %.4f\" % (fpr))"
   ]
  },
  {
   "cell_type": "code",
   "execution_count": 13,
   "id": "42592e6a",
   "metadata": {},
   "outputs": [
    {
     "name": "stdout",
     "output_type": "stream",
     "text": [
      "KNN KFold results\n",
      "Accuracy: [0.9958132045088567, 0.9958132045088567, 0.9951675257731959, 0.9967783505154639, 0.9938788659793815]\n",
      "True Positive Rate: [0.7708333333333334, 0.7818181818181819, 0.7291666666666666, 0.8541666666666666, 0.6346153846153846]\n",
      "False Positive Rate: [0.0006542361792607131, 0.0003278688524590164, 0.0006544502617801048, 0.000981675392670157, 0.0]\n",
      "Accuracy: 0.9954902302571508\n",
      "True Positive Rate: 0.7541200466200466\n",
      "False Positive Rate: 0.0005236461372339983\n"
     ]
    }
   ],
   "source": [
    "from sklearn.neighbors import KNeighborsClassifier\n",
    "knn = KNeighborsClassifier(3)\n",
    "\n",
    "# cross validation\n",
    "kf = KFold(n_splits=5)\n",
    "accuracy, tpr, fpr = [], [], []\n",
    "for train, test in kf.split(x_train):\n",
    "    knn.fit(x_train[train, :], y_train[train])\n",
    "    pred = knn.predict(x_train[test])\n",
    "    tn, fp, fn, tp = confusion_matrix(y_train[test], pred).ravel()\n",
    "    accuracy.append((tp + tn)/(tn + fp + fn + tp))\n",
    "    tpr.append(tp / (tp + fn))\n",
    "    fpr.append(fp / (fp + tn))\n",
    "\n",
    "print(\"KNN KFold results\")\n",
    "print(f\"Accuracy: {accuracy}\")\n",
    "print(f\"True Positive Rate: {tpr}\")\n",
    "print(f\"False Positive Rate: {fpr}\")\n",
    "print(f\"Accuracy: {np.mean(accuracy)}\")\n",
    "print(f\"True Positive Rate: {np.mean(tpr)}\")\n",
    "print(f\"False Positive Rate: {np.mean(fpr)}\")"
   ]
  },
  {
   "cell_type": "code",
   "execution_count": 18,
   "id": "8de818a6",
   "metadata": {},
   "outputs": [
    {
     "name": "stdout",
     "output_type": "stream",
     "text": [
      "KNN validation results\n",
      "Accuracy: 0.9959\n",
      "True Positive Rate: 0.7717\n",
      "False Positive Rate: 0.0003\n"
     ]
    }
   ],
   "source": [
    "# Testing \n",
    "knn.fit(x_train, y_train)\n",
    "pred = knn.predict(x_test)\n",
    "tn, fp, fn, tp = confusion_matrix(y_test, pred).ravel()\n",
    "accuracy = (tp + tn)/(tn + fp + fn + tp)\n",
    "tpr = tp / (tp + fn)\n",
    "fpr = fp / (fp + tn)\n",
    "\n",
    "print(\"KNN validation results\")\n",
    "print(\"Accuracy: %.4f\" % (accuracy))\n",
    "print(\"True Positive Rate: %.4f\" % (tpr))\n",
    "print(\"False Positive Rate: %.4f\" % (fpr))"
   ]
  },
  {
   "cell_type": "markdown",
   "id": "a04b701c",
   "metadata": {},
   "source": [
    "So we can see that the models were able to learn by the features extracted with the preprocessing notebook. FOr the next steps, we will try to apply models to automatic extract these features and pass it to classification models."
   ]
  },
  {
   "cell_type": "markdown",
   "id": "73d6df3d",
   "metadata": {},
   "source": []
  }
 ],
 "metadata": {
  "interpreter": {
   "hash": "777ff42348a06c70331b54433e37741790203f2b53da2edfdcb6ea943be029bc"
  },
  "kernelspec": {
   "display_name": "Python 3.10.4 64-bit",
   "language": "python",
   "name": "python3"
  },
  "language_info": {
   "codemirror_mode": {
    "name": "ipython",
    "version": 3
   },
   "file_extension": ".py",
   "mimetype": "text/x-python",
   "name": "python",
   "nbconvert_exporter": "python",
   "pygments_lexer": "ipython3",
   "version": "3.10.4"
  }
 },
 "nbformat": 4,
 "nbformat_minor": 5
}
