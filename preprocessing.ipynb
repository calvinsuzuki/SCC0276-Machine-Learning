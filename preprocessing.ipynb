{
 "cells": [
  {
   "cell_type": "code",
   "execution_count": 4,
   "metadata": {},
   "outputs": [],
   "source": [
    "import os\n",
    "import mne\n",
    "import numpy as np\n",
    "import pandas as pd\n",
    "import glob"
   ]
  },
  {
   "cell_type": "markdown",
   "metadata": {},
   "source": [
    "# Exploring CHB-MIT dataset"
   ]
  },
  {
   "cell_type": "markdown",
   "metadata": {},
   "source": [
    "## Reading edf files"
   ]
  },
  {
   "cell_type": "code",
   "execution_count": 3,
   "metadata": {},
   "outputs": [],
   "source": [
    "patient_id = 1\n",
    "DATASET_PATH = os.path.join(os.getcwd(), 'data', 'chb01-summary.txt') #ONLY FOR TESTING\n",
    "patient_id_str = str(patient_id).zfill(2)\n",
    "\n",
    "# all_file_path = glob(f'chb{patient_id_str}/*.edf')\n",
    "# print(len(all_file_path))\n",
    "\n",
    "file_path = os.path.join('data', 'chb01', 'chb01_03.edf')"
   ]
  },
  {
   "cell_type": "code",
   "execution_count": 4,
   "metadata": {},
   "outputs": [
    {
     "name": "stdout",
     "output_type": "stream",
     "text": [
      "Extracting EDF parameters from /home/guisoares/soares_repo/SCC0276-Machine-Learning/chb01/chb01_03.edf...\n",
      "EDF file detected\n",
      "Setting channel info structure...\n",
      "Creating raw.info structure...\n",
      "['eeg', 'eeg', 'eeg', 'eeg', 'eeg', 'eeg', 'eeg', 'eeg', 'eeg', 'eeg', 'eeg', 'eeg', 'eeg', 'eeg', 'eeg', 'eeg', 'eeg', 'eeg', 'eeg', 'eeg', 'eeg', 'eeg', 'eeg']\n",
      "<Info | 7 non-empty values\n",
      " bads: []\n",
      " ch_names: FP1-F7, F7-T7, T7-P7, P7-O1, FP1-F3, F3-C3, C3-P3, P3-O1, ...\n",
      " chs: 23 EEG\n",
      " custom_ref_applied: False\n",
      " highpass: 0.0 Hz\n",
      " lowpass: 128.0 Hz\n",
      " meas_date: 2076-11-06 13:43:04 UTC\n",
      " nchan: 23\n",
      " projs: []\n",
      " sfreq: 256.0 Hz\n",
      ">\n",
      "['FP1-F7', 'F7-T7', 'T7-P7', 'P7-O1', 'FP1-F3', 'F3-C3', 'C3-P3', 'P3-O1', 'FP2-F4', 'F4-C4', 'C4-P4', 'P4-O2', 'FP2-F8', 'F8-T8', 'T8-P8-0', 'P8-O2', 'FZ-CZ', 'CZ-PZ', 'P7-T7', 'T7-FT9', 'FT9-FT10', 'FT10-T8', 'T8-P8-1']\n"
     ]
    },
    {
     "name": "stderr",
     "output_type": "stream",
     "text": [
      "/tmp/ipykernel_21769/427083036.py:2: RuntimeWarning: Channel names are not unique, found duplicates for: {'T8-P8'}. Applying running numbers for duplicates.\n",
      "  raw = mne.io.read_raw_edf(file_path)\n"
     ]
    },
    {
     "name": "stdout",
     "output_type": "stream",
     "text": [
      "(23, 921600)\n"
     ]
    }
   ],
   "source": [
    "# raw = mne.io.read_raw_edf(all_file_path[0])\n",
    "raw = mne.io.read_raw_edf(file_path)\n",
    "print(raw.get_channel_types())\n",
    "print(raw.info)\n",
    "print(raw.ch_names)\n",
    "print(raw.get_data().shape)"
   ]
  },
  {
   "cell_type": "code",
   "execution_count": 3,
   "metadata": {},
   "outputs": [],
   "source": [
    "# def read_data_edf(file_path):\n",
    "#     data = mne.io.read_raw_edf(file_path, preload=True)\n",
    "#     data.set_eeg_reference()\n",
    "#     data.filter(l_freq=0.5, h_freq=45)\n",
    "#     epochs = mne.make_fixed_length_epochs(data, duration=10, overlap=1)\n",
    "#     epochs_array = epochs.get_data()\n",
    "#     return epochs, epochs_array\n",
    "\n",
    "def read_edf_to_raw(file_path):\n",
    "    raw = mne.io.read_raw_edf(file_path, preload=True)\n",
    "    raw.set_eeg_reference()\n",
    "    raw.filter(l_freq=0.5, h_freq=45)\n",
    "    return raw"
   ]
  },
  {
   "cell_type": "markdown",
   "metadata": {},
   "source": [
    "## Extract features"
   ]
  },
  {
   "cell_type": "code",
   "execution_count": 2,
   "metadata": {},
   "outputs": [],
   "source": [
    "from utils import pyeeg\n",
    "from scipy.stats import kurtosis, skew\n",
    "from scipy.signal import argrelextrema, welch\n",
    "from scipy.integrate import cumtrapz\n",
    "import statistics \n",
    "\n",
    "feature_names = [\"rms\", \"variance\", \"kurtosis\", \"skewness\", \"max_amp\", \"min_amp\", \"n_peaks\", \"n_crossings\", \n",
    "        \"hfd\", \"pfd\", \"hurst_exp\", \"spectral_entropy\", \"total_power\", \"median_freq\", \"peak_freq\", \n",
    "        \"hjorth_mobility\", \"hjorth_complexity\", \"power_1hz\", \"power_5hz\", \"power_10hz\", \"power_15hz\", \"power_20hz\"]\n",
    "\n",
    "def eeg_features(data):\n",
    "    data = np.asarray(data)\n",
    "    res  = np.zeros([22])\n",
    "    Kmax = 5\n",
    "    # M    = 10\n",
    "    # R    = 0.3\n",
    "    Band = [1,5,10,15,20,25]\n",
    "    Fs   = 256\n",
    "    power, power_ratio = pyeeg.bin_power(data, Band, Fs)\n",
    "    f, P = welch(data, fs=Fs, window='hanning', noverlap=0, nfft=int(256.))       # Signal power spectrum\n",
    "    area_freq = cumtrapz(P, f, initial=0)\n",
    "    res[0] = np.sqrt(np.sum(np.power(data, 2)) / data.shape[0])                   # amplitude RMS\n",
    "    res[1] = statistics.stdev(data)**2                                            # variance\n",
    "    res[2] = kurtosis(data)                                                       # kurtosis\n",
    "    res[3] = skew(data)                                                           # skewness\n",
    "    res[4] = max(data)                                                            # max amplitude\n",
    "    res[5] = min(data)                                                            # min amplitude\n",
    "    res[6] = len(argrelextrema(data, np.greater)[0])                              # number of local extrema or peaks\n",
    "    res[7] = ((data[:-1] * data[1:]) < 0).sum()                                   # number of zero crossings\n",
    "    res[8] = pyeeg.hfd(data, Kmax)                                                # Higuchi Fractal Dimension\n",
    "    res[9] = pyeeg.pfd(data)                                                      # Petrosian Fractal Dimension\n",
    "    res[10] = pyeeg.hurst(data)                                                   # Hurst exponent\n",
    "    res[11] = pyeeg.spectral_entropy(data, Band, Fs, Power_Ratio=power_ratio)     # spectral entropy (1.21s)\n",
    "    res[12] = area_freq[-1]                                                       # total power\n",
    "    res[13] = f[np.where(area_freq >= res[12] / 2)[0][0]]                         # median frequency\n",
    "    res[14] = f[np.argmax(P)]                                                     # peak frequency\n",
    "    res[15], res[16] = pyeeg.hjorth(data)                                         # Hjorth mobility and complexity\n",
    "    res[17] = power_ratio[0]\n",
    "    res[18] = power_ratio[1]\n",
    "    res[19] = power_ratio[2]\n",
    "    res[20] = power_ratio[3]\n",
    "    res[21] = power_ratio[4]\n",
    "    # res[22] = pyeeg.samp_entropy(data, M, R)             # sample entropy\n",
    "    # res[23] = pyeeg.ap_entropy(data, M, R)             # approximate entropy (1.14s)\n",
    "    return (res)"
   ]
  },
  {
   "cell_type": "markdown",
   "metadata": {},
   "source": [
    "### Test features"
   ]
  },
  {
   "cell_type": "code",
   "execution_count": 7,
   "metadata": {},
   "outputs": [
    {
     "name": "stdout",
     "output_type": "stream",
     "text": [
      "Extracting EDF parameters from /home/guisoares/soares_repo/SCC0276-Machine-Learning/chb01/chb01_03.edf...\n",
      "EDF file detected\n",
      "Setting channel info structure...\n",
      "Creating raw.info structure...\n",
      "Reading 0 ... 921599  =      0.000 ...  3599.996 secs...\n"
     ]
    },
    {
     "name": "stderr",
     "output_type": "stream",
     "text": [
      "/tmp/ipykernel_21769/276806641.py:10: RuntimeWarning: Channel names are not unique, found duplicates for: {'T8-P8'}. Applying running numbers for duplicates.\n",
      "  raw = mne.io.read_raw_edf(file_path, preload=True)\n"
     ]
    },
    {
     "name": "stdout",
     "output_type": "stream",
     "text": [
      "EEG channel type selected for re-referencing\n",
      "Applying average reference.\n",
      "Applying a custom ('EEG',) reference.\n",
      "Filtering raw data in 1 contiguous segment\n",
      "Setting up band-pass filter from 0.5 - 45 Hz\n",
      "\n",
      "FIR filter parameters\n",
      "---------------------\n",
      "Designing a one-pass, zero-phase, non-causal bandpass filter:\n",
      "- Windowed time-domain design (firwin) method\n",
      "- Hamming window with 0.0194 passband ripple and 53 dB stopband attenuation\n",
      "- Lower passband edge: 0.50\n",
      "- Lower transition bandwidth: 0.50 Hz (-6 dB cutoff frequency: 0.25 Hz)\n",
      "- Upper passband edge: 45.00 Hz\n",
      "- Upper transition bandwidth: 11.25 Hz (-6 dB cutoff frequency: 50.62 Hz)\n",
      "- Filter length: 1691 samples (6.605 sec)\n",
      "\n",
      "(23, 23040)\n"
     ]
    },
    {
     "name": "stderr",
     "output_type": "stream",
     "text": [
      "/home/guisoares/soares_repo/SCC0276-Machine-Learning/pyeeg.py:738: FutureWarning: `rcond` parameter will change to the default of machine precision times ``max(M, N)`` where M and N are the input matrix dimensions.\n",
      "To use the future default and silence this warning we advise to pass `rcond=None`, to keep using the old, explicitly pass `rcond=-1`.\n",
      "  (p, _, _, _) = numpy.linalg.lstsq(x, L)\n",
      "/home/guisoares/soares_repo/SCC0276-Machine-Learning/pyeeg.py:819: RuntimeWarning: invalid value encountered in true_divide\n",
      "  R_S = R_T / S_T\n",
      "/home/guisoares/soares_repo/SCC0276-Machine-Learning/pyeeg.py:823: FutureWarning: `rcond` parameter will change to the default of machine precision times ``max(M, N)`` where M and N are the input matrix dimensions.\n",
      "To use the future default and silence this warning we advise to pass `rcond=None`, to keep using the old, explicitly pass `rcond=-1`.\n",
      "  [m, c] = numpy.linalg.lstsq(A, R_S)[0]\n"
     ]
    },
    {
     "name": "stdout",
     "output_type": "stream",
     "text": [
      "(506,)\n"
     ]
    }
   ],
   "source": [
    "# read raw\n",
    "raw = read_edf_to_raw(file_path)\n",
    "\n",
    "start, stop = raw.time_as_index([10, 100])\n",
    "epoch = raw[:, start:stop][0]\n",
    "print(epoch.shape)\n",
    "\n",
    "features = []\n",
    "for eletrode in epoch :\n",
    "    features.append(eeg_features(eletrode))\n",
    "    \n",
    "features_array = np.array(features).ravel()\n",
    "print(features_array.shape)"
   ]
  },
  {
   "cell_type": "markdown",
   "metadata": {},
   "source": [
    "Now we understood how the dataset is organized and how to extract features along the epochs. Now lets develop the loop that will take the data, extract features and save with a better understanding way to analyse and work with. Also, it will be able to load the saved data to train and evaluate our models"
   ]
  },
  {
   "cell_type": "markdown",
   "metadata": {},
   "source": [
    "## Visualize features per channel and per epoch"
   ]
  },
  {
   "cell_type": "code",
   "execution_count": null,
   "metadata": {},
   "outputs": [],
   "source": [
    "# get features of specific channel\n",
    "def features_by_channel(features_array):\n",
    "    features_channel = []\n",
    "    MAX_CHANNELS = 23\n",
    "    for i in range(MAX_CHANNELS):\n",
    "        array = features_array[i*22:(i+1)*22];\n",
    "        features_channel.append(pd.DataFrame(array.T, columns=feature_names))\n",
    "    return features_channel\n",
    "\n",
    "features_channel = features_by_channel(features_array)\n",
    "print('Info for channel 23: ')\n",
    "\n",
    "# Shape of features_channel=(23, 1596, 12)\n",
    "features_channel[22].shape"
   ]
  },
  {
   "cell_type": "markdown",
   "metadata": {},
   "source": [
    "## Labels"
   ]
  },
  {
   "cell_type": "markdown",
   "metadata": {},
   "source": [
    "Analysing the summary.txt of each patient we could annotate the files with seizures"
   ]
  },
  {
   "cell_type": "code",
   "execution_count": 6,
   "metadata": {},
   "outputs": [],
   "source": [
    "## READ SUMMARY (TODO: automate this)\n",
    "seizures_dict = {\"chb01_03\": [[2996, 3036]],\n",
    "                \"chb01_04\": [[1467, 1494]],\n",
    "                \"chb01_15\": [[1732, 1772]],\n",
    "                \"chb01_16\": [[1015, 1066]],\n",
    "                \"chb01_18\": [[1720, 1810]],\n",
    "                \"chb01_21\": [[327, 420]],\n",
    "                \"chb01_26\": [[1862, 1963]],\n",
    "                \n",
    "                \"chb02_16\": [[130, 212]],\n",
    "\n",
    "                \"chb05_06\": [[417, 532]], \n",
    "                \"chb05_13\": [[1086, 1196]],\n",
    "                \"chb05_16\": [[2317, 2413]], \n",
    "                \"chb05_17\": [[2451, 2571]],\n",
    "                \"chb05_22\": [[2348, 2465]],\n",
    "                \n",
    "                \"chb08_02\": [[2670, 2841]], \n",
    "                \"chb08_05\": [[2856, 3046]],\n",
    "                \"chb08_11\": [[2988, 3211]], \n",
    "                \"chb08_13\": [[2417, 2577]],\n",
    "                \"chb08_21\": [[2083, 2347]]}"
   ]
  },
  {
   "cell_type": "markdown",
   "metadata": {},
   "source": [
    "# Preprocessing and labelling data"
   ]
  },
  {
   "cell_type": "code",
   "execution_count": null,
   "metadata": {},
   "outputs": [],
   "source": [
    "# # patient_folder = Path.cwd()/'chbmit'/'chb{}'.format(str(patient_id).zfill(2))\n",
    "\n",
    "# patient_id = 1\n",
    "# patient_id_str = str(patient_id).zfill(2)\n",
    "\n",
    "# patient_folder = os.path.join(DATASET_PATH, f'chb{patient_id_str}')\n",
    "# print(f\"Serching for patient {patient_id_str} files at {patient_folder} ...\")\n",
    "# patient_files = glob(os.path.join(patient_folder, f'*.edf'))\n",
    "# print(f\"Found {len(patient_files)} files\")\n",
    "# summary_path = os.path.join(patient_folder, f'chb{patient_id_str}-summary.txt')"
   ]
  },
  {
   "cell_type": "code",
   "execution_count": 9,
   "metadata": {},
   "outputs": [
    {
     "name": "stdout",
     "output_type": "stream",
     "text": [
      "/home/guisoares/soares_repo/SCC0276-Machine-Learning/data/chb01/chb01_01.edf\n",
      "/home/guisoares/soares_repo/SCC0276-Machine-Learning/data/chb01/chb01_02.edf\n",
      "/home/guisoares/soares_repo/SCC0276-Machine-Learning/data/chb01/chb01_03.edf\n",
      "/home/guisoares/soares_repo/SCC0276-Machine-Learning/data/chb01/chb01_04.edf\n",
      "/home/guisoares/soares_repo/SCC0276-Machine-Learning/data/chb01/chb01_15.edf\n",
      "/home/guisoares/soares_repo/SCC0276-Machine-Learning/data/chb01/chb01_16.edf\n",
      "/home/guisoares/soares_repo/SCC0276-Machine-Learning/data/chb01/chb01_18.edf\n",
      "/home/guisoares/soares_repo/SCC0276-Machine-Learning/data/chb01/chb01_21.edf\n",
      "/home/guisoares/soares_repo/SCC0276-Machine-Learning/data/chb01/chb01_26.edf\n",
      "Extracting EDF parameters from /home/guisoares/soares_repo/SCC0276-Machine-Learning/data/chb01/chb01_01.edf...\n",
      "EDF file detected\n",
      "Setting channel info structure...\n",
      "Creating raw.info structure...\n",
      "Reading 0 ... 921599  =      0.000 ...  3599.996 secs...\n"
     ]
    },
    {
     "name": "stderr",
     "output_type": "stream",
     "text": [
      "/tmp/ipykernel_25870/276806641.py:10: RuntimeWarning: Channel names are not unique, found duplicates for: {'T8-P8'}. Applying running numbers for duplicates.\n",
      "  raw = mne.io.read_raw_edf(file_path, preload=True)\n"
     ]
    },
    {
     "name": "stdout",
     "output_type": "stream",
     "text": [
      "EEG channel type selected for re-referencing\n",
      "Applying average reference.\n",
      "Applying a custom ('EEG',) reference.\n",
      "Filtering raw data in 1 contiguous segment\n",
      "Setting up band-pass filter from 0.5 - 45 Hz\n",
      "\n",
      "FIR filter parameters\n",
      "---------------------\n",
      "Designing a one-pass, zero-phase, non-causal bandpass filter:\n",
      "- Windowed time-domain design (firwin) method\n",
      "- Hamming window with 0.0194 passband ripple and 53 dB stopband attenuation\n",
      "- Lower passband edge: 0.50\n",
      "- Lower transition bandwidth: 0.50 Hz (-6 dB cutoff frequency: 0.25 Hz)\n",
      "- Upper passband edge: 45.00 Hz\n",
      "- Upper transition bandwidth: 11.25 Hz (-6 dB cutoff frequency: 50.62 Hz)\n",
      "- Filter length: 1691 samples (6.605 sec)\n",
      "\n"
     ]
    },
    {
     "name": "stderr",
     "output_type": "stream",
     "text": [
      "/home/guisoares/soares_repo/SCC0276-Machine-Learning/utils/pyeeg.py:738: FutureWarning: `rcond` parameter will change to the default of machine precision times ``max(M, N)`` where M and N are the input matrix dimensions.\n",
      "To use the future default and silence this warning we advise to pass `rcond=None`, to keep using the old, explicitly pass `rcond=-1`.\n",
      "  (p, _, _, _) = numpy.linalg.lstsq(x, L)\n",
      "/home/guisoares/soares_repo/SCC0276-Machine-Learning/utils/pyeeg.py:819: RuntimeWarning: invalid value encountered in true_divide\n",
      "  R_S = R_T / S_T\n",
      "/home/guisoares/soares_repo/SCC0276-Machine-Learning/utils/pyeeg.py:823: FutureWarning: `rcond` parameter will change to the default of machine precision times ``max(M, N)`` where M and N are the input matrix dimensions.\n",
      "To use the future default and silence this warning we advise to pass `rcond=None`, to keep using the old, explicitly pass `rcond=-1`.\n",
      "  [m, c] = numpy.linalg.lstsq(A, R_S)[0]\n"
     ]
    },
    {
     "ename": "KeyboardInterrupt",
     "evalue": "",
     "output_type": "error",
     "traceback": [
      "\u001b[0;31m---------------------------------------------------------------------------\u001b[0m",
      "\u001b[0;31mKeyboardInterrupt\u001b[0m                         Traceback (most recent call last)",
      "\u001b[0;32m/tmp/ipykernel_25870/1425818258.py\u001b[0m in \u001b[0;36m<module>\u001b[0;34m\u001b[0m\n\u001b[1;32m     46\u001b[0m         \u001b[0;31m# extract features\u001b[0m\u001b[0;34m\u001b[0m\u001b[0;34m\u001b[0m\u001b[0;34m\u001b[0m\u001b[0m\n\u001b[1;32m     47\u001b[0m         \u001b[0;32mfor\u001b[0m \u001b[0mchannel\u001b[0m \u001b[0;32min\u001b[0m \u001b[0mepoch\u001b[0m\u001b[0;34m:\u001b[0m\u001b[0;34m\u001b[0m\u001b[0;34m\u001b[0m\u001b[0m\n\u001b[0;32m---> 48\u001b[0;31m             \u001b[0mepoch_features\u001b[0m\u001b[0;34m.\u001b[0m\u001b[0mextend\u001b[0m\u001b[0;34m(\u001b[0m\u001b[0meeg_features\u001b[0m\u001b[0;34m(\u001b[0m\u001b[0mchannel\u001b[0m\u001b[0;34m)\u001b[0m\u001b[0;34m)\u001b[0m\u001b[0;34m\u001b[0m\u001b[0;34m\u001b[0m\u001b[0m\n\u001b[0m\u001b[1;32m     49\u001b[0m \u001b[0;34m\u001b[0m\u001b[0m\n\u001b[1;32m     50\u001b[0m         \u001b[0;31m# seizure flag for y\u001b[0m\u001b[0;34m\u001b[0m\u001b[0;34m\u001b[0m\u001b[0;34m\u001b[0m\u001b[0m\n",
      "\u001b[0;32m/tmp/ipykernel_25870/2044753013.py\u001b[0m in \u001b[0;36meeg_features\u001b[0;34m(data)\u001b[0m\n\u001b[1;32m     30\u001b[0m     \u001b[0mres\u001b[0m\u001b[0;34m[\u001b[0m\u001b[0;36m8\u001b[0m\u001b[0;34m]\u001b[0m \u001b[0;34m=\u001b[0m \u001b[0mpyeeg\u001b[0m\u001b[0;34m.\u001b[0m\u001b[0mhfd\u001b[0m\u001b[0;34m(\u001b[0m\u001b[0mdata\u001b[0m\u001b[0;34m,\u001b[0m \u001b[0mKmax\u001b[0m\u001b[0;34m)\u001b[0m                                                \u001b[0;31m# Higuchi Fractal Dimension\u001b[0m\u001b[0;34m\u001b[0m\u001b[0;34m\u001b[0m\u001b[0m\n\u001b[1;32m     31\u001b[0m     \u001b[0mres\u001b[0m\u001b[0;34m[\u001b[0m\u001b[0;36m9\u001b[0m\u001b[0;34m]\u001b[0m \u001b[0;34m=\u001b[0m \u001b[0mpyeeg\u001b[0m\u001b[0;34m.\u001b[0m\u001b[0mpfd\u001b[0m\u001b[0;34m(\u001b[0m\u001b[0mdata\u001b[0m\u001b[0;34m)\u001b[0m                                                      \u001b[0;31m# Petrosian Fractal Dimension\u001b[0m\u001b[0;34m\u001b[0m\u001b[0;34m\u001b[0m\u001b[0m\n\u001b[0;32m---> 32\u001b[0;31m     \u001b[0mres\u001b[0m\u001b[0;34m[\u001b[0m\u001b[0;36m10\u001b[0m\u001b[0;34m]\u001b[0m \u001b[0;34m=\u001b[0m \u001b[0mpyeeg\u001b[0m\u001b[0;34m.\u001b[0m\u001b[0mhurst\u001b[0m\u001b[0;34m(\u001b[0m\u001b[0mdata\u001b[0m\u001b[0;34m)\u001b[0m                                                   \u001b[0;31m# Hurst exponent\u001b[0m\u001b[0;34m\u001b[0m\u001b[0;34m\u001b[0m\u001b[0m\n\u001b[0m\u001b[1;32m     33\u001b[0m     \u001b[0mres\u001b[0m\u001b[0;34m[\u001b[0m\u001b[0;36m11\u001b[0m\u001b[0;34m]\u001b[0m \u001b[0;34m=\u001b[0m \u001b[0mpyeeg\u001b[0m\u001b[0;34m.\u001b[0m\u001b[0mspectral_entropy\u001b[0m\u001b[0;34m(\u001b[0m\u001b[0mdata\u001b[0m\u001b[0;34m,\u001b[0m \u001b[0mBand\u001b[0m\u001b[0;34m,\u001b[0m \u001b[0mFs\u001b[0m\u001b[0;34m,\u001b[0m \u001b[0mPower_Ratio\u001b[0m\u001b[0;34m=\u001b[0m\u001b[0mpower_ratio\u001b[0m\u001b[0;34m)\u001b[0m     \u001b[0;31m# spectral entropy (1.21s)\u001b[0m\u001b[0;34m\u001b[0m\u001b[0;34m\u001b[0m\u001b[0m\n\u001b[1;32m     34\u001b[0m     \u001b[0mres\u001b[0m\u001b[0;34m[\u001b[0m\u001b[0;36m12\u001b[0m\u001b[0;34m]\u001b[0m \u001b[0;34m=\u001b[0m \u001b[0marea_freq\u001b[0m\u001b[0;34m[\u001b[0m\u001b[0;34m-\u001b[0m\u001b[0;36m1\u001b[0m\u001b[0;34m]\u001b[0m                                                       \u001b[0;31m# total power\u001b[0m\u001b[0;34m\u001b[0m\u001b[0;34m\u001b[0m\u001b[0m\n",
      "\u001b[0;32m~/soares_repo/SCC0276-Machine-Learning/utils/pyeeg.py\u001b[0m in \u001b[0;36mhurst\u001b[0;34m(X)\u001b[0m\n\u001b[1;32m    813\u001b[0m \u001b[0;34m\u001b[0m\u001b[0m\n\u001b[1;32m    814\u001b[0m     \u001b[0;32mfor\u001b[0m \u001b[0mi\u001b[0m \u001b[0;32min\u001b[0m \u001b[0mrange\u001b[0m\u001b[0;34m(\u001b[0m\u001b[0mN\u001b[0m\u001b[0;34m)\u001b[0m\u001b[0;34m:\u001b[0m\u001b[0;34m\u001b[0m\u001b[0;34m\u001b[0m\u001b[0m\n\u001b[0;32m--> 815\u001b[0;31m         \u001b[0mS_T\u001b[0m\u001b[0;34m[\u001b[0m\u001b[0mi\u001b[0m\u001b[0;34m]\u001b[0m \u001b[0;34m=\u001b[0m \u001b[0mnumpy\u001b[0m\u001b[0;34m.\u001b[0m\u001b[0mstd\u001b[0m\u001b[0;34m(\u001b[0m\u001b[0mX\u001b[0m\u001b[0;34m[\u001b[0m\u001b[0;34m:\u001b[0m\u001b[0mi\u001b[0m \u001b[0;34m+\u001b[0m \u001b[0;36m1\u001b[0m\u001b[0;34m]\u001b[0m\u001b[0;34m)\u001b[0m\u001b[0;34m\u001b[0m\u001b[0;34m\u001b[0m\u001b[0m\n\u001b[0m\u001b[1;32m    816\u001b[0m         \u001b[0mX_T\u001b[0m \u001b[0;34m=\u001b[0m \u001b[0mY\u001b[0m \u001b[0;34m-\u001b[0m \u001b[0mT\u001b[0m \u001b[0;34m*\u001b[0m \u001b[0mAve_T\u001b[0m\u001b[0;34m[\u001b[0m\u001b[0mi\u001b[0m\u001b[0;34m]\u001b[0m\u001b[0;34m\u001b[0m\u001b[0;34m\u001b[0m\u001b[0m\n\u001b[1;32m    817\u001b[0m         \u001b[0mR_T\u001b[0m\u001b[0;34m[\u001b[0m\u001b[0mi\u001b[0m\u001b[0;34m]\u001b[0m \u001b[0;34m=\u001b[0m \u001b[0mnumpy\u001b[0m\u001b[0;34m.\u001b[0m\u001b[0mptp\u001b[0m\u001b[0;34m(\u001b[0m\u001b[0mX_T\u001b[0m\u001b[0;34m[\u001b[0m\u001b[0;34m:\u001b[0m\u001b[0mi\u001b[0m \u001b[0;34m+\u001b[0m \u001b[0;36m1\u001b[0m\u001b[0;34m]\u001b[0m\u001b[0;34m)\u001b[0m\u001b[0;34m\u001b[0m\u001b[0;34m\u001b[0m\u001b[0m\n",
      "\u001b[0;32m<__array_function__ internals>\u001b[0m in \u001b[0;36mstd\u001b[0;34m(*args, **kwargs)\u001b[0m\n",
      "\u001b[0;32m~/.virtualenvs/full/lib/python3.8/site-packages/numpy/core/fromnumeric.py\u001b[0m in \u001b[0;36mstd\u001b[0;34m(a, axis, dtype, out, ddof, keepdims, where)\u001b[0m\n\u001b[1;32m   3579\u001b[0m             \u001b[0;32mreturn\u001b[0m \u001b[0mstd\u001b[0m\u001b[0;34m(\u001b[0m\u001b[0maxis\u001b[0m\u001b[0;34m=\u001b[0m\u001b[0maxis\u001b[0m\u001b[0;34m,\u001b[0m \u001b[0mdtype\u001b[0m\u001b[0;34m=\u001b[0m\u001b[0mdtype\u001b[0m\u001b[0;34m,\u001b[0m \u001b[0mout\u001b[0m\u001b[0;34m=\u001b[0m\u001b[0mout\u001b[0m\u001b[0;34m,\u001b[0m \u001b[0mddof\u001b[0m\u001b[0;34m=\u001b[0m\u001b[0mddof\u001b[0m\u001b[0;34m,\u001b[0m \u001b[0;34m**\u001b[0m\u001b[0mkwargs\u001b[0m\u001b[0;34m)\u001b[0m\u001b[0;34m\u001b[0m\u001b[0;34m\u001b[0m\u001b[0m\n\u001b[1;32m   3580\u001b[0m \u001b[0;34m\u001b[0m\u001b[0m\n\u001b[0;32m-> 3581\u001b[0;31m     return _methods._std(a, axis=axis, dtype=dtype, out=out, ddof=ddof,\n\u001b[0m\u001b[1;32m   3582\u001b[0m                          **kwargs)\n\u001b[1;32m   3583\u001b[0m \u001b[0;34m\u001b[0m\u001b[0m\n",
      "\u001b[0;32m~/.virtualenvs/full/lib/python3.8/site-packages/numpy/core/_methods.py\u001b[0m in \u001b[0;36m_std\u001b[0;34m(a, axis, dtype, out, ddof, keepdims, where)\u001b[0m\n\u001b[1;32m    260\u001b[0m def _std(a, axis=None, dtype=None, out=None, ddof=0, keepdims=False, *,\n\u001b[1;32m    261\u001b[0m          where=True):\n\u001b[0;32m--> 262\u001b[0;31m     ret = _var(a, axis=axis, dtype=dtype, out=out, ddof=ddof,\n\u001b[0m\u001b[1;32m    263\u001b[0m                keepdims=keepdims, where=where)\n\u001b[1;32m    264\u001b[0m \u001b[0;34m\u001b[0m\u001b[0m\n",
      "\u001b[0;32m~/.virtualenvs/full/lib/python3.8/site-packages/numpy/core/_methods.py\u001b[0m in \u001b[0;36m_var\u001b[0;34m(a, axis, dtype, out, ddof, keepdims, where)\u001b[0m\n\u001b[1;32m    230\u001b[0m     \u001b[0mx\u001b[0m \u001b[0;34m=\u001b[0m \u001b[0masanyarray\u001b[0m\u001b[0;34m(\u001b[0m\u001b[0marr\u001b[0m \u001b[0;34m-\u001b[0m \u001b[0marrmean\u001b[0m\u001b[0;34m)\u001b[0m\u001b[0;34m\u001b[0m\u001b[0;34m\u001b[0m\u001b[0m\n\u001b[1;32m    231\u001b[0m \u001b[0;34m\u001b[0m\u001b[0m\n\u001b[0;32m--> 232\u001b[0;31m     \u001b[0;32mif\u001b[0m \u001b[0missubclass\u001b[0m\u001b[0;34m(\u001b[0m\u001b[0marr\u001b[0m\u001b[0;34m.\u001b[0m\u001b[0mdtype\u001b[0m\u001b[0;34m.\u001b[0m\u001b[0mtype\u001b[0m\u001b[0;34m,\u001b[0m \u001b[0;34m(\u001b[0m\u001b[0mnt\u001b[0m\u001b[0;34m.\u001b[0m\u001b[0mfloating\u001b[0m\u001b[0;34m,\u001b[0m \u001b[0mnt\u001b[0m\u001b[0;34m.\u001b[0m\u001b[0minteger\u001b[0m\u001b[0;34m)\u001b[0m\u001b[0;34m)\u001b[0m\u001b[0;34m:\u001b[0m\u001b[0;34m\u001b[0m\u001b[0;34m\u001b[0m\u001b[0m\n\u001b[0m\u001b[1;32m    233\u001b[0m         \u001b[0mx\u001b[0m \u001b[0;34m=\u001b[0m \u001b[0mum\u001b[0m\u001b[0;34m.\u001b[0m\u001b[0mmultiply\u001b[0m\u001b[0;34m(\u001b[0m\u001b[0mx\u001b[0m\u001b[0;34m,\u001b[0m \u001b[0mx\u001b[0m\u001b[0;34m,\u001b[0m \u001b[0mout\u001b[0m\u001b[0;34m=\u001b[0m\u001b[0mx\u001b[0m\u001b[0;34m)\u001b[0m\u001b[0;34m\u001b[0m\u001b[0;34m\u001b[0m\u001b[0m\n\u001b[1;32m    234\u001b[0m     \u001b[0;31m# Fast-paths for built-in complex types\u001b[0m\u001b[0;34m\u001b[0m\u001b[0;34m\u001b[0m\u001b[0;34m\u001b[0m\u001b[0m\n",
      "\u001b[0;31mKeyboardInterrupt\u001b[0m: "
     ]
    }
   ],
   "source": [
    "\n",
    "################ INPUT YOUR DATASET PATH HERE\n",
    "DATASET_PATH = os.path.join(os.getcwd(), 'data') #ONLY FOR TESTING\n",
    "\n",
    "################ CHOOSE THE FILES THAT YOU WANT HERE\n",
    "selected_files = {'chb01': ['01','02','03','04','15','16','18','21','26']}\n",
    "patient_files = [os.path.join(DATASET_PATH, folder, f\"{folder}_{fn}.edf\") for folder, fn_list in selected_files.items() for fn in fn_list]\n",
    "\n",
    "for patient_file in patient_files:\n",
    "    print(patient_file)\n",
    "\n",
    "\n",
    "# parameters for epochs generation\n",
    "curr_time = 0\n",
    "epoch_time = 10\n",
    "overlap = 5\n",
    "\n",
    "# Divide into epochs\n",
    "dataset = []\n",
    "for file_path in patient_files:\n",
    "    # get filename: chbxx_xx.edf\n",
    "    filename = os.path.split(file_path)[1]\n",
    "\n",
    "    # remove .edf staying only chbxx_xx\n",
    "    filename = os.path.splitext(filename)[0]\n",
    "    \n",
    "    # read raw\n",
    "    raw = read_edf_to_raw(file_path)\n",
    "\n",
    "    curr_time = 0\n",
    "    while curr_time <= max(raw.times) + 0.01 - epoch_time:  # max(raw.times) = 3600\n",
    "        \n",
    "        # temporary list with features of current epoch\n",
    "        epoch_features = []\n",
    "\n",
    "        # calculate window and get data to epoch array\n",
    "        start_time = curr_time \n",
    "        if start_time < 0.:\n",
    "            start_time = 0.\n",
    "        end_time = curr_time + epoch_time\n",
    "        start, stop = raw.time_as_index([start_time, end_time])\n",
    "        epoch = raw[:, start:stop][0]\n",
    "\n",
    "        # start time as ID\n",
    "        epoch_features.extend([start_time])\n",
    "        \n",
    "        # extract features\n",
    "        for channel in epoch:\n",
    "            epoch_features.extend(eeg_features(channel))\n",
    "\n",
    "        # seizure flag for y\n",
    "        aux = []\n",
    "        if filename in seizures_dict:  # if file has seizure\n",
    "            for seizure in seizures_dict[filename]:\n",
    "                if start_time > seizure[0] and start_time < seizure[1]:\n",
    "                    aux.append(1)\n",
    "                elif start_time + epoch_time > seizure[0] and start_time + epoch_time < seizure[1]:\n",
    "                    aux.append(1)\n",
    "                else:\n",
    "                    aux.append(0)\n",
    "        else:    \n",
    "            aux.append(0)\n",
    "\n",
    "        # if the current time is inside at least one seizure interval -> 1; otherwise -> 0\n",
    "        if 1 in aux:\n",
    "            epoch_features.extend([1])\n",
    "        else:\n",
    "            epoch_features.extend([0])\n",
    "\n",
    "        # append apoch features and label to the dataset\n",
    "        dataset.append(epoch_features)\n",
    "\n",
    "        # calculate next current time\n",
    "        curr_time = curr_time + epoch_time - overlap  \n",
    "        print(\"Section \", str(len(dataset)), \"; start: \", start, \" ; stop: \", stop)\n",
    "    \n",
    "    # generate columns labels\n",
    "    column_names = []\n",
    "    for channel in raw.ch_names:\n",
    "        for name in feature_names:\n",
    "            column_names.append(channel + \"_\" + name)\n",
    "    column_names.append(\"seizure\")\n",
    "\n",
    "    res = pd.DataFrame(dataset, columns=column_names)\n",
    "    res.to_csv(os.path.join(\"processed_data\", filename + '.csv'), index=False) "
   ]
  },
  {
   "cell_type": "code",
   "execution_count": 26,
   "metadata": {},
   "outputs": [
    {
     "data": {
      "text/plain": [
       "(16, 507)"
      ]
     },
     "execution_count": 26,
     "metadata": {},
     "output_type": "execute_result"
    }
   ],
   "source": [
    "dataset = np.array(dataset)\n",
    "dataset.shape"
   ]
  },
  {
   "cell_type": "markdown",
   "metadata": {},
   "source": [
    "After that we could generate the data with the csv extension. Each edf file has it's representant .csv file with the feature extraction."
   ]
  }
 ],
 "metadata": {
  "interpreter": {
   "hash": "fd156d1bfb48eb4ee1a6eb8f39a444f48635a09375c4c26039d85d949812f675"
  },
  "kernelspec": {
   "display_name": "Python 3.8.10 ('full')",
   "language": "python",
   "name": "python3"
  },
  "language_info": {
   "codemirror_mode": {
    "name": "ipython",
    "version": 3
   },
   "file_extension": ".py",
   "mimetype": "text/x-python",
   "name": "python",
   "nbconvert_exporter": "python",
   "pygments_lexer": "ipython3",
   "version": "3.8.10"
  },
  "orig_nbformat": 4
 },
 "nbformat": 4,
 "nbformat_minor": 2
}
